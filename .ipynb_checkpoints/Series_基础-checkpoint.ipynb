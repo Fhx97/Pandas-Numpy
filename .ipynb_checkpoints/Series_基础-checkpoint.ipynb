{
 "cells": [
  {
   "cell_type": "markdown",
   "id": "c9c841fa",
   "metadata": {},
   "source": [
    "# pandas的数据结构\n",
    "\n",
    "  Numpy提供运算基础  \n",
    "  Pandas提供了业务逻辑的处理方法其两种数据结构：Series（一维）和DataFrame（二维）。  "
   ]
  },
  {
   "cell_type": "code",
   "execution_count": 2,
   "id": "01995f48",
   "metadata": {},
   "outputs": [],
   "source": [
    "#导入pandas\n",
    "import numpy as np\n",
    "import pandas as pd\n",
    "from pandas import Series,DataFrame\n",
    "import matplotlib as mpl"
   ]
  },
  {
   "cell_type": "markdown",
   "id": "07278811",
   "metadata": {},
   "source": [
    "## 1.Series\n",
    "\n",
    "Series是一种类似于一维数组的对象，一维数组的强化版，增加了像字典一样的key-value的访问机制，同时也保留了数组的访问方式。  \n",
    "  由以下两个部分组成：  \n",
    "  （1）value：一组数据（ndarray类型）  \n",
    "  （2）index：相关的数据索引标签  "
   ]
  },
  {
   "cell_type": "markdown",
   "id": "c01abf43",
   "metadata": {},
   "source": [
    "### 1）Series的创建"
   ]
  },
  {
   "cell_type": "code",
   "execution_count": 3,
   "id": "87885618",
   "metadata": {},
   "outputs": [],
   "source": [
    "#有列表或numpy数组创建\n",
    "names = ['tom','lucy','jack','mery']\n",
    "s = Series(names)"
   ]
  },
  {
   "cell_type": "code",
   "execution_count": 4,
   "id": "6e0f26fc",
   "metadata": {},
   "outputs": [
    {
     "data": {
      "text/plain": [
       "0     tom\n",
       "1    lucy\n",
       "2    jack\n",
       "3    mery\n",
       "dtype: object"
      ]
     },
     "execution_count": 4,
     "metadata": {},
     "output_type": "execute_result"
    }
   ],
   "source": [
    "s"
   ]
  },
  {
   "cell_type": "code",
   "execution_count": 5,
   "id": "3f4fbca4",
   "metadata": {},
   "outputs": [
    {
     "data": {
      "text/plain": [
       "0    1.0\n",
       "1    1.0\n",
       "2    1.0\n",
       "3    1.0\n",
       "4    1.0\n",
       "dtype: float64"
      ]
     },
     "execution_count": 5,
     "metadata": {},
     "output_type": "execute_result"
    }
   ],
   "source": [
    "arr = np.ones(shape = 5)\n",
    "s1 = Series(arr)\n",
    "s1\n",
    "#特别地，由ndarray创建的是引用，而不是副本。对Series元素的改变也会改变原来ndarray对象中的元素。（列表没有这种情况）"
   ]
  },
  {
   "cell_type": "code",
   "execution_count": 6,
   "id": "c6cd9aef",
   "metadata": {},
   "outputs": [
    {
     "data": {
      "text/plain": [
       "['tom', 'lucy', 'jack', 'mery']"
      ]
     },
     "execution_count": 6,
     "metadata": {},
     "output_type": "execute_result"
    }
   ],
   "source": [
    "#默认索引为0到N-1的整数索引，还可以通过设置index参数制定索引\n",
    "names"
   ]
  },
  {
   "cell_type": "code",
   "execution_count": 7,
   "id": "4f58bee0",
   "metadata": {},
   "outputs": [
    {
     "data": {
      "text/plain": [
       "k1     tom\n",
       "k2    lucy\n",
       "k3    jack\n",
       "k4    mery\n",
       "dtype: object"
      ]
     },
     "execution_count": 7,
     "metadata": {},
     "output_type": "execute_result"
    }
   ],
   "source": [
    "#如果没有手动指定显示索引，则使用隐式索引自动填充。\n",
    "2 = Series(data=names,index=[\"k1\",\"k2\",\"k3\",\"k4\"])\n",
    "s2"
   ]
  },
  {
   "cell_type": "code",
   "execution_count": 9,
   "id": "4be7119e",
   "metadata": {},
   "outputs": [
    {
     "data": {
      "text/plain": [
       "k1     tom\n",
       "k2    lucy\n",
       "k3    mery\n",
       "dtype: object"
      ]
     },
     "execution_count": 9,
     "metadata": {},
     "output_type": "execute_result"
    }
   ],
   "source": [
    "#由字典创建\n",
    "dict_1 = {\n",
    "    'k1':'tom',\n",
    "    'k2':'lucy',\n",
    "    'k3':'mery'\n",
    "}\n",
    "s3 = Series(dict_1)\n",
    "s3"
   ]
  },
  {
   "cell_type": "code",
   "execution_count": 10,
   "id": "e9379251",
   "metadata": {},
   "outputs": [
    {
     "data": {
      "text/plain": [
       "k1     tom\n",
       "k2    lucy\n",
       "dtype: object"
      ]
     },
     "execution_count": 10,
     "metadata": {},
     "output_type": "execute_result"
    }
   ],
   "source": [
    "#index的优先级要高于字典键值对的优先级\n",
    "s4 = Series(data=dict_1,index=['k1','k2'])\n",
    "s4\n",
    "        "
   ]
  },
  {
   "cell_type": "markdown",
   "id": "c7a095fe",
   "metadata": {},
   "source": [
    "## 2）Series的索引和切片\n",
    "\n",
    "  可以使用中括号取单个索引（此时返回的是元素类型），或者中括号里一个列表取多个索引（此时返回的仍然是一个Series类型），分为显示索引和隐式索引。"
   ]
  },
  {
   "cell_type": "markdown",
   "id": "d1cc4d10",
   "metadata": {},
   "source": [
    "### a.显式索引\n",
    "  - 使用index中的元素作为索引值\n",
    "  - 使用.loc[]（推荐）\n",
    "  注意，此时是闭区间。"
   ]
  },
  {
   "cell_type": "markdown",
   "id": "e632fb2f",
   "metadata": {},
   "source": [
    "### a.隐式索引\n",
    "  - 使用整数组作为索引值\n",
    "  - 使用.iloc[]（推荐）\n",
    "  注意，此时是闭区间。"
   ]
  },
  {
   "cell_type": "code",
   "execution_count": 3,
   "id": "c67f04e6",
   "metadata": {},
   "outputs": [
    {
     "data": {
      "text/plain": [
       "tom     10\n",
       "lucy     6\n",
       "jack     4\n",
       "mery     3\n",
       "dtype: int64"
      ]
     },
     "execution_count": 3,
     "metadata": {},
     "output_type": "execute_result"
    }
   ],
   "source": [
    "#显示索引访问，类似于字典的键值对访问。\n",
    "s4 = Series([10,6,4,3],index = ['tom', 'lucy', 'jack', 'mery'])\n",
    "s4"
   ]
  },
  {
   "cell_type": "code",
   "execution_count": 4,
   "id": "a664f25d",
   "metadata": {},
   "outputs": [
    {
     "data": {
      "text/plain": [
       "10"
      ]
     },
     "execution_count": 4,
     "metadata": {},
     "output_type": "execute_result"
    }
   ],
   "source": [
    "s4[0]"
   ]
  },
  {
   "cell_type": "code",
   "execution_count": 6,
   "id": "09f954e8",
   "metadata": {},
   "outputs": [
    {
     "data": {
      "text/plain": [
       "3"
      ]
     },
     "execution_count": 6,
     "metadata": {},
     "output_type": "execute_result"
    }
   ],
   "source": [
    "s4['mery']"
   ]
  },
  {
   "cell_type": "code",
   "execution_count": 7,
   "id": "aed6b874",
   "metadata": {},
   "outputs": [
    {
     "data": {
      "text/plain": [
       "tom     10\n",
       "jack     4\n",
       "dtype: int64"
      ]
     },
     "execution_count": 7,
     "metadata": {},
     "output_type": "execute_result"
    }
   ],
   "source": [
    "#官方推荐\n",
    "s4.loc[['tom','jack']]"
   ]
  },
  {
   "cell_type": "code",
   "execution_count": 10,
   "id": "1fa8635d",
   "metadata": {},
   "outputs": [
    {
     "data": {
      "text/plain": [
       "3"
      ]
     },
     "execution_count": 10,
     "metadata": {},
     "output_type": "execute_result"
    }
   ],
   "source": [
    "#官方推荐，使用iloc隐式访问机制\n",
    "s4.iloc[3]"
   ]
  },
  {
   "cell_type": "code",
   "execution_count": 13,
   "id": "fc7b4f34",
   "metadata": {},
   "outputs": [
    {
     "data": {
      "text/plain": [
       "tom     10\n",
       "lucy     6\n",
       "dtype: int64"
      ]
     },
     "execution_count": 13,
     "metadata": {},
     "output_type": "execute_result"
    }
   ],
   "source": [
    "#使用带索引的bool型的Series列表访问\n",
    "#注意：如果使用Series的Bool列表，要注意索引对齐，顺序不要求一致，内容要求一致。\n",
    "#注意：bool列表要和访问的对象长度保持一致。\n",
    "\n",
    "s_bool=Series(data=[True,True,False,False],index=['tom', 'lucy', 'jack', 'mery'])\n",
    "s4.loc[s_bool]"
   ]
  },
  {
   "cell_type": "code",
   "execution_count": 14,
   "id": "4610d4db",
   "metadata": {},
   "outputs": [
    {
     "data": {
      "text/plain": [
       "lucy    6\n",
       "jack    4\n",
       "dtype: int64"
      ]
     },
     "execution_count": 14,
     "metadata": {},
     "output_type": "execute_result"
    }
   ],
   "source": [
    "s4[1:3]"
   ]
  },
  {
   "cell_type": "code",
   "execution_count": 15,
   "id": "1d5811e1",
   "metadata": {},
   "outputs": [
    {
     "data": {
      "text/plain": [
       "tom     10\n",
       "lucy     6\n",
       "jack     4\n",
       "dtype: int64"
      ]
     },
     "execution_count": 15,
     "metadata": {},
     "output_type": "execute_result"
    }
   ],
   "source": [
    "#所有使用标签（显示索引）切片的都是闭区间\n",
    "s4['tom':'jack']"
   ]
  },
  {
   "cell_type": "code",
   "execution_count": 17,
   "id": "815ce241",
   "metadata": {},
   "outputs": [
    {
     "data": {
      "text/plain": [
       "tom     10\n",
       "lucy     6\n",
       "jack     4\n",
       "dtype: int64"
      ]
     },
     "execution_count": 17,
     "metadata": {},
     "output_type": "execute_result"
    }
   ],
   "source": [
    "s4.loc['tom':'jack']"
   ]
  },
  {
   "cell_type": "code",
   "execution_count": 18,
   "id": "01ba7185",
   "metadata": {},
   "outputs": [
    {
     "data": {
      "text/plain": [
       "lucy    6\n",
       "jack    4\n",
       "dtype: int64"
      ]
     },
     "execution_count": 18,
     "metadata": {},
     "output_type": "execute_result"
    }
   ],
   "source": [
    "s4.iloc[1:3]"
   ]
  },
  {
   "cell_type": "markdown",
   "id": "4d29e59c",
   "metadata": {},
   "source": [
    "## 3）Series的基本概念\n",
    "\n",
    "可以把Series看成一个定长的有序字段  \n",
    "可以通过shape，size，index，values等得到series的属性  \n",
    "可以用head()，tail()分布查看前n个和后n个值  \n",
    "当索引没有对应的值时，可能出现缺失数据显示NaN（not a number）的情况  \n",
    "可以使用pd.isnull(),pd.notnull()或自带isnull(),notnull()函数检测缺失数据  \n",
    "使用bool型的列表访问数组对象  \n",
    "Series对象本身及其实例都有一个name属性\n",
    "根据值排序\n",
    "\n",
    "\n"
   ]
  },
  {
   "cell_type": "code",
   "execution_count": 19,
   "id": "9090bc79",
   "metadata": {},
   "outputs": [
    {
     "data": {
      "text/plain": [
       "tom     10\n",
       "lucy     6\n",
       "dtype: int64"
      ]
     },
     "execution_count": 19,
     "metadata": {},
     "output_type": "execute_result"
    }
   ],
   "source": [
    "#一般用于查看数据结构\n",
    "s4.head(2)"
   ]
  },
  {
   "cell_type": "code",
   "execution_count": 22,
   "id": "a2da955f",
   "metadata": {},
   "outputs": [
    {
     "data": {
      "text/plain": [
       "False"
      ]
     },
     "metadata": {},
     "output_type": "display_data"
    },
    {
     "data": {
      "text/plain": [
       "True"
      ]
     },
     "metadata": {},
     "output_type": "display_data"
    }
   ],
   "source": [
    "#查看大量数据集中是否存在至少一个空值。\n",
    "display(s4.isnull().any(),s4.notnull().all())"
   ]
  },
  {
   "cell_type": "code",
   "execution_count": 4,
   "id": "f1e8d2b7",
   "metadata": {},
   "outputs": [
    {
     "data": {
      "text/plain": [
       "a    32\n",
       "b    58\n",
       "c    92\n",
       "d    86\n",
       "e    85\n",
       "dtype: int64"
      ]
     },
     "execution_count": 4,
     "metadata": {},
     "output_type": "execute_result"
    }
   ],
   "source": [
    "s5 = Series(data=[32,58,92,86,85],index=['a','b','c','d','e'])\n",
    "s5"
   ]
  },
  {
   "cell_type": "code",
   "execution_count": 5,
   "id": "8bc268e1",
   "metadata": {},
   "outputs": [
    {
     "data": {
      "text/plain": [
       "a    32\n",
       "b    58\n",
       "c    92\n",
       "d    86\n",
       "e    85\n",
       "dtype: int64"
      ]
     },
     "execution_count": 5,
     "metadata": {},
     "output_type": "execute_result"
    }
   ],
   "source": [
    "#根据索引排序，一般用于日期作为索引的数据\n",
    "s5.sort_index()"
   ]
  },
  {
   "cell_type": "code",
   "execution_count": 7,
   "id": "0568f1a4",
   "metadata": {},
   "outputs": [
    {
     "data": {
      "text/plain": [
       "0     8\n",
       "1     1\n",
       "2     3\n",
       "3     2\n",
       "4     4\n",
       "     ..\n",
       "95    4\n",
       "96    7\n",
       "97    9\n",
       "98    0\n",
       "99    8\n",
       "Length: 100, dtype: int32"
      ]
     },
     "execution_count": 7,
     "metadata": {},
     "output_type": "execute_result"
    }
   ],
   "source": [
    "#统计值出现的次数，假设这是订单表（Order）所有订单用户的ID字段\n",
    "user_id = Series(data=np.random.randint(0,10,100))\n",
    "user_id"
   ]
  },
  {
   "cell_type": "code",
   "execution_count": 8,
   "id": "efbf783b",
   "metadata": {},
   "outputs": [
    {
     "data": {
      "text/plain": [
       "6    14\n",
       "4    13\n",
       "9    13\n",
       "7    12\n",
       "1    11\n",
       "8     9\n",
       "5     8\n",
       "3     7\n",
       "2     7\n",
       "0     6\n",
       "dtype: int64"
      ]
     },
     "execution_count": 8,
     "metadata": {},
     "output_type": "execute_result"
    }
   ],
   "source": [
    "#我们现在统计每个用户的订单个数\n",
    "user_id.value_counts()\n"
   ]
  },
  {
   "cell_type": "markdown",
   "id": "df66a75f",
   "metadata": {},
   "source": [
    "## 4）Series的运算\n"
   ]
  },
  {
   "cell_type": "code",
   "execution_count": null,
   "id": "1f3f04fa",
   "metadata": {},
   "outputs": [],
   "source": [
    "#适用于numpy的数组运算也适用于Series"
   ]
  },
  {
   "cell_type": "code",
   "execution_count": 9,
   "id": "f685a838",
   "metadata": {},
   "outputs": [
    {
     "data": {
      "text/plain": [
       "A    3\n",
       "B    7\n",
       "C    6\n",
       "D    7\n",
       "E    8\n",
       "dtype: int32"
      ]
     },
     "metadata": {},
     "output_type": "display_data"
    },
    {
     "data": {
      "text/plain": [
       "A    3\n",
       "B    2\n",
       "C    0\n",
       "D    4\n",
       "E    3\n",
       "dtype: int32"
      ]
     },
     "metadata": {},
     "output_type": "display_data"
    }
   ],
   "source": [
    "# Series和Series之间运算时，如果索引不对应，则补NaN\n",
    "s1 = Series(data=np.random.randint(0,10,size=5),index=list('ABCDE'))\n",
    "s2 = Series(data=np.random.randint(0,10,size=5),index=list('ABCDE'))\n",
    "display(s1,s2)"
   ]
  },
  {
   "cell_type": "code",
   "execution_count": 10,
   "id": "0b0e09c3",
   "metadata": {},
   "outputs": [
    {
     "data": {
      "text/plain": [
       "A     6\n",
       "B     9\n",
       "C     6\n",
       "D    11\n",
       "E    11\n",
       "dtype: int32"
      ]
     },
     "execution_count": 10,
     "metadata": {},
     "output_type": "execute_result"
    }
   ],
   "source": [
    "s1 + s2"
   ]
  },
  {
   "cell_type": "code",
   "execution_count": 11,
   "id": "8a12fed5",
   "metadata": {},
   "outputs": [
    {
     "data": {
      "text/plain": [
       "A     6\n",
       "B     9\n",
       "C     6\n",
       "D    11\n",
       "E    11\n",
       "dtype: int32"
      ]
     },
     "execution_count": 11,
     "metadata": {},
     "output_type": "execute_result"
    }
   ],
   "source": [
    "s1.add(s2)"
   ]
  },
  {
   "cell_type": "code",
   "execution_count": 13,
   "id": "336027fb",
   "metadata": {},
   "outputs": [
    {
     "data": {
      "text/plain": [
       "语文    91\n",
       "数学    72\n",
       "英语    68\n",
       "理综    66\n",
       "Name: 理科, dtype: int32"
      ]
     },
     "metadata": {},
     "output_type": "display_data"
    },
    {
     "data": {
      "text/plain": [
       "语文    121\n",
       "数学    137\n",
       "英语     85\n",
       "文综    127\n",
       "Name: 文科, dtype: int32"
      ]
     },
     "metadata": {},
     "output_type": "display_data"
    }
   ],
   "source": [
    "index_1 = ['语文','数学','英语','理综']\n",
    "index_2 = ['语文','数学','英语','文综']\n",
    "\n",
    "score_1 = Series(data=np.random.randint(0,150,size=4),index=index_1,name = '理科')\n",
    "score_2 = Series(data=np.random.randint(0,150,size=4),index=index_2,name = '文科')\n",
    "display(score_1,score_2)"
   ]
  },
  {
   "cell_type": "code",
   "execution_count": 14,
   "id": "445962f9",
   "metadata": {},
   "outputs": [
    {
     "data": {
      "text/plain": [
       "数学    209.0\n",
       "文综      NaN\n",
       "理综      NaN\n",
       "英语    153.0\n",
       "语文    212.0\n",
       "dtype: float64"
      ]
     },
     "execution_count": 14,
     "metadata": {},
     "output_type": "execute_result"
    }
   ],
   "source": [
    "score_1+score_2\n",
    "#NaN和任何值相加都为空"
   ]
  },
  {
   "cell_type": "code",
   "execution_count": 15,
   "id": "8e23c119",
   "metadata": {},
   "outputs": [
    {
     "data": {
      "text/plain": [
       "数学    209.0\n",
       "文综    127.0\n",
       "理综     66.0\n",
       "英语    153.0\n",
       "语文    212.0\n",
       "dtype: float64"
      ]
     },
     "execution_count": 15,
     "metadata": {},
     "output_type": "execute_result"
    }
   ],
   "source": [
    "score_1.add(score_2,fill_value=0)"
   ]
  },
  {
   "cell_type": "code",
   "execution_count": 16,
   "id": "ea6b7245",
   "metadata": {},
   "outputs": [
    {
     "data": {
      "text/plain": [
       "数学    72\n",
       "英语    68\n",
       "理综    66\n",
       "Name: 理科, dtype: int32"
      ]
     },
     "execution_count": 16,
     "metadata": {},
     "output_type": "execute_result"
    }
   ],
   "source": [
    "score_1.loc[score_1<90]"
   ]
  },
  {
   "cell_type": "code",
   "execution_count": 18,
   "id": "30f47806",
   "metadata": {},
   "outputs": [
    {
     "data": {
      "text/plain": [
       "74.25"
      ]
     },
     "execution_count": 18,
     "metadata": {},
     "output_type": "execute_result"
    }
   ],
   "source": [
    "score_1.values.mean()"
   ]
  }
 ],
 "metadata": {
  "kernelspec": {
   "display_name": "Python 3 (ipykernel)",
   "language": "python",
   "name": "python3"
  },
  "language_info": {
   "codemirror_mode": {
    "name": "ipython",
    "version": 3
   },
   "file_extension": ".py",
   "mimetype": "text/x-python",
   "name": "python",
   "nbconvert_exporter": "python",
   "pygments_lexer": "ipython3",
   "version": "3.10.9"
  }
 },
 "nbformat": 4,
 "nbformat_minor": 5
}
