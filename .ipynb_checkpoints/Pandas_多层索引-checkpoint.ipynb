{
 "cells": [
  {
   "cell_type": "markdown",
   "id": "f7ef4790",
   "metadata": {},
   "source": [
    "# pandas层次化索引"
   ]
  },
  {
   "cell_type": "code",
   "execution_count": 1,
   "id": "2ce818d4",
   "metadata": {},
   "outputs": [],
   "source": [
    "import pandas as pd\n",
    "import numpy as np\n",
    "from pandas import DataFrame,Series"
   ]
  },
  {
   "cell_type": "code",
   "execution_count": 18,
   "id": "b4728551",
   "metadata": {},
   "outputs": [],
   "source": [
    "data = pd.read_excel('test_1.xlsx',header=[0,1],index_col=[0,1])"
   ]
  },
  {
   "cell_type": "code",
   "execution_count": 19,
   "id": "ea702476",
   "metadata": {},
   "outputs": [
    {
     "data": {
      "text/html": [
       "<div>\n",
       "<style scoped>\n",
       "    .dataframe tbody tr th:only-of-type {\n",
       "        vertical-align: middle;\n",
       "    }\n",
       "\n",
       "    .dataframe tbody tr th {\n",
       "        vertical-align: top;\n",
       "    }\n",
       "\n",
       "    .dataframe thead tr th {\n",
       "        text-align: left;\n",
       "    }\n",
       "</style>\n",
       "<table border=\"1\" class=\"dataframe\">\n",
       "  <thead>\n",
       "    <tr>\n",
       "      <th></th>\n",
       "      <th></th>\n",
       "      <th colspan=\"3\" halign=\"left\">上半年</th>\n",
       "      <th colspan=\"3\" halign=\"left\">下半年</th>\n",
       "    </tr>\n",
       "    <tr>\n",
       "      <th></th>\n",
       "      <th></th>\n",
       "      <th>收入</th>\n",
       "      <th>成本</th>\n",
       "      <th>费用</th>\n",
       "      <th>收入</th>\n",
       "      <th>成本</th>\n",
       "      <th>费用</th>\n",
       "    </tr>\n",
       "  </thead>\n",
       "  <tbody>\n",
       "    <tr>\n",
       "      <th rowspan=\"3\" valign=\"top\">黑龙江公司</th>\n",
       "      <th>92#</th>\n",
       "      <td>6980</td>\n",
       "      <td>1711</td>\n",
       "      <td>554</td>\n",
       "      <td>4798</td>\n",
       "      <td>4580</td>\n",
       "      <td>996</td>\n",
       "    </tr>\n",
       "    <tr>\n",
       "      <th>95#</th>\n",
       "      <td>6112</td>\n",
       "      <td>2484</td>\n",
       "      <td>1862</td>\n",
       "      <td>1354</td>\n",
       "      <td>3179</td>\n",
       "      <td>902</td>\n",
       "    </tr>\n",
       "    <tr>\n",
       "      <th>90#</th>\n",
       "      <td>4965</td>\n",
       "      <td>1818</td>\n",
       "      <td>1257</td>\n",
       "      <td>5991</td>\n",
       "      <td>3452</td>\n",
       "      <td>1067</td>\n",
       "    </tr>\n",
       "    <tr>\n",
       "      <th rowspan=\"3\" valign=\"top\">北京公司</th>\n",
       "      <th>92#</th>\n",
       "      <td>9317</td>\n",
       "      <td>1713</td>\n",
       "      <td>1261</td>\n",
       "      <td>1614</td>\n",
       "      <td>2385</td>\n",
       "      <td>1100</td>\n",
       "    </tr>\n",
       "    <tr>\n",
       "      <th>95#</th>\n",
       "      <td>4473</td>\n",
       "      <td>2161</td>\n",
       "      <td>1148</td>\n",
       "      <td>4300</td>\n",
       "      <td>4048</td>\n",
       "      <td>526</td>\n",
       "    </tr>\n",
       "    <tr>\n",
       "      <th>90#</th>\n",
       "      <td>8328</td>\n",
       "      <td>1531</td>\n",
       "      <td>900</td>\n",
       "      <td>6031</td>\n",
       "      <td>1092</td>\n",
       "      <td>755</td>\n",
       "    </tr>\n",
       "  </tbody>\n",
       "</table>\n",
       "</div>"
      ],
      "text/plain": [
       "            上半年               下半年            \n",
       "             收入    成本    费用    收入    成本    费用\n",
       "黑龙江公司 92#  6980  1711   554  4798  4580   996\n",
       "      95#  6112  2484  1862  1354  3179   902\n",
       "      90#  4965  1818  1257  5991  3452  1067\n",
       "北京公司  92#  9317  1713  1261  1614  2385  1100\n",
       "      95#  4473  2161  1148  4300  4048   526\n",
       "      90#  8328  1531   900  6031  1092   755"
      ]
     },
     "execution_count": 19,
     "metadata": {},
     "output_type": "execute_result"
    }
   ],
   "source": [
    "data"
   ]
  },
  {
   "cell_type": "code",
   "execution_count": 20,
   "id": "052a8e0a",
   "metadata": {},
   "outputs": [
    {
     "data": {
      "text/plain": [
       "MultiIndex([('上半年', '收入'),\n",
       "            ('上半年', '成本'),\n",
       "            ('上半年', '费用'),\n",
       "            ('下半年', '收入'),\n",
       "            ('下半年', '成本'),\n",
       "            ('下半年', '费用')],\n",
       "           )"
      ]
     },
     "execution_count": 20,
     "metadata": {},
     "output_type": "execute_result"
    }
   ],
   "source": [
    "data.columns"
   ]
  },
  {
   "cell_type": "code",
   "execution_count": 2,
   "id": "3c5c8905",
   "metadata": {},
   "outputs": [],
   "source": [
    "columns = pd.MultiIndex.from_product([[\"上半年\",\"下半年\"],[\"收入\",\"成本\",\"费用\"]])"
   ]
  },
  {
   "cell_type": "markdown",
   "id": "71e64c9e",
   "metadata": {},
   "source": [
    "## 1.多层行索引\n",
    "\n",
    "  除了行索引index，列索引columns也能用同样的方法创建多层索引。"
   ]
  },
  {
   "cell_type": "code",
   "execution_count": 23,
   "id": "ebaf842c",
   "metadata": {
    "scrolled": true
   },
   "outputs": [
    {
     "data": {
      "text/plain": [
       "MultiIndex([('上半年', '收入'),\n",
       "            ('上半年', '成本'),\n",
       "            ('上半年', '费用'),\n",
       "            ('下半年', '收入'),\n",
       "            ('下半年', '成本'),\n",
       "            ('下半年', '费用')],\n",
       "           )"
      ]
     },
     "execution_count": 23,
     "metadata": {},
     "output_type": "execute_result"
    }
   ],
   "source": [
    "columns"
   ]
  },
  {
   "cell_type": "code",
   "execution_count": 5,
   "id": "1b978f1c",
   "metadata": {},
   "outputs": [
    {
     "data": {
      "text/html": [
       "<div>\n",
       "<style scoped>\n",
       "    .dataframe tbody tr th:only-of-type {\n",
       "        vertical-align: middle;\n",
       "    }\n",
       "\n",
       "    .dataframe tbody tr th {\n",
       "        vertical-align: top;\n",
       "    }\n",
       "\n",
       "    .dataframe thead tr th {\n",
       "        text-align: left;\n",
       "    }\n",
       "</style>\n",
       "<table border=\"1\" class=\"dataframe\">\n",
       "  <thead>\n",
       "    <tr>\n",
       "      <th></th>\n",
       "      <th colspan=\"3\" halign=\"left\">上半年</th>\n",
       "      <th colspan=\"3\" halign=\"left\">下半年</th>\n",
       "    </tr>\n",
       "    <tr>\n",
       "      <th></th>\n",
       "      <th>收入</th>\n",
       "      <th>成本</th>\n",
       "      <th>费用</th>\n",
       "      <th>收入</th>\n",
       "      <th>成本</th>\n",
       "      <th>费用</th>\n",
       "    </tr>\n",
       "  </thead>\n",
       "  <tbody>\n",
       "    <tr>\n",
       "      <th>92#</th>\n",
       "      <td>7954</td>\n",
       "      <td>8820</td>\n",
       "      <td>3849</td>\n",
       "      <td>5452</td>\n",
       "      <td>9895</td>\n",
       "      <td>7950</td>\n",
       "    </tr>\n",
       "    <tr>\n",
       "      <th>95#</th>\n",
       "      <td>8832</td>\n",
       "      <td>233</td>\n",
       "      <td>5017</td>\n",
       "      <td>8915</td>\n",
       "      <td>8532</td>\n",
       "      <td>9760</td>\n",
       "    </tr>\n",
       "    <tr>\n",
       "      <th>90#</th>\n",
       "      <td>9174</td>\n",
       "      <td>2850</td>\n",
       "      <td>4946</td>\n",
       "      <td>9540</td>\n",
       "      <td>8971</td>\n",
       "      <td>9134</td>\n",
       "    </tr>\n",
       "  </tbody>\n",
       "</table>\n",
       "</div>"
      ],
      "text/plain": [
       "      上半年               下半年            \n",
       "       收入    成本    费用    收入    成本    费用\n",
       "92#  7954  8820  3849  5452  9895  7950\n",
       "95#  8832   233  5017  8915  8532  9760\n",
       "90#  9174  2850  4946  9540  8971  9134"
      ]
     },
     "execution_count": 5,
     "metadata": {},
     "output_type": "execute_result"
    }
   ],
   "source": [
    "data_1 = np.random.randint(0,10000,size=(3,6))\n",
    "index = ['92#','95#','90#']\n",
    "df_1=DataFrame(data_1,index=index,columns=columns)\n",
    "df_1"
   ]
  },
  {
   "cell_type": "code",
   "execution_count": 7,
   "id": "0d597231",
   "metadata": {},
   "outputs": [],
   "source": [
    "data_2 = np.random.randint(0,100,size=(2,4))"
   ]
  },
  {
   "cell_type": "code",
   "execution_count": 10,
   "id": "302195ea",
   "metadata": {},
   "outputs": [],
   "source": [
    "cols = pd.MultiIndex.from_product([[\"期中\",\"期末\"],[\"Python\",'Java']])"
   ]
  },
  {
   "cell_type": "code",
   "execution_count": 11,
   "id": "7579b5fe",
   "metadata": {},
   "outputs": [],
   "source": [
    "index = ['张三','李四']"
   ]
  },
  {
   "cell_type": "code",
   "execution_count": 12,
   "id": "aef73155",
   "metadata": {},
   "outputs": [
    {
     "data": {
      "text/html": [
       "<div>\n",
       "<style scoped>\n",
       "    .dataframe tbody tr th:only-of-type {\n",
       "        vertical-align: middle;\n",
       "    }\n",
       "\n",
       "    .dataframe tbody tr th {\n",
       "        vertical-align: top;\n",
       "    }\n",
       "\n",
       "    .dataframe thead tr th {\n",
       "        text-align: left;\n",
       "    }\n",
       "</style>\n",
       "<table border=\"1\" class=\"dataframe\">\n",
       "  <thead>\n",
       "    <tr>\n",
       "      <th></th>\n",
       "      <th colspan=\"2\" halign=\"left\">期中</th>\n",
       "      <th colspan=\"2\" halign=\"left\">期末</th>\n",
       "    </tr>\n",
       "    <tr>\n",
       "      <th></th>\n",
       "      <th>Python</th>\n",
       "      <th>Java</th>\n",
       "      <th>Python</th>\n",
       "      <th>Java</th>\n",
       "    </tr>\n",
       "  </thead>\n",
       "  <tbody>\n",
       "    <tr>\n",
       "      <th>张三</th>\n",
       "      <td>58</td>\n",
       "      <td>78</td>\n",
       "      <td>28</td>\n",
       "      <td>47</td>\n",
       "    </tr>\n",
       "    <tr>\n",
       "      <th>李四</th>\n",
       "      <td>26</td>\n",
       "      <td>40</td>\n",
       "      <td>5</td>\n",
       "      <td>2</td>\n",
       "    </tr>\n",
       "  </tbody>\n",
       "</table>\n",
       "</div>"
      ],
      "text/plain": [
       "       期中          期末     \n",
       "   Python Java Python Java\n",
       "张三     58   78     28   47\n",
       "李四     26   40      5    2"
      ]
     },
     "execution_count": 12,
     "metadata": {},
     "output_type": "execute_result"
    }
   ],
   "source": [
    "df_2 = DataFrame(data_2,index=index,columns=cols)\n",
    "df_2"
   ]
  },
  {
   "cell_type": "markdown",
   "id": "d5d185b7",
   "metadata": {},
   "source": [
    "## 2.多层索引对象的索引与切片操作\n"
   ]
  },
  {
   "cell_type": "markdown",
   "id": "59aed921",
   "metadata": {},
   "source": [
    "需求：\n",
    "    构建一个多层级列索引成绩表，分值在0~100内随机。  \n",
    "    一级标题为上学期和下学期，二级标题为python、java、c，行标签为tom、lucy、jack。  \n",
    "    1.获取上学期lucy成绩的最高分是哪门学科；  \n",
    "    2.同时获取上学期和下学期tom的成绩，计算tom的各学科平均成绩。  \n",
    "    3.获取上学期jack的python成绩，并给他加20分。  "
   ]
  },
  {
   "cell_type": "code",
   "execution_count": 2,
   "id": "0ab1be98",
   "metadata": {},
   "outputs": [],
   "source": [
    "data_3 = np.random.randint(0,100,size=(3,6))"
   ]
  },
  {
   "cell_type": "code",
   "execution_count": 3,
   "id": "9f4a427d",
   "metadata": {},
   "outputs": [],
   "source": [
    "index_2 = ['tom','lucy','jack']"
   ]
  },
  {
   "cell_type": "code",
   "execution_count": 4,
   "id": "bded3e50",
   "metadata": {},
   "outputs": [],
   "source": [
    "cols_2 = pd.MultiIndex.from_product([['上学期','下学期'],['python','java','c']])"
   ]
  },
  {
   "cell_type": "code",
   "execution_count": 7,
   "id": "c2856a08",
   "metadata": {},
   "outputs": [
    {
     "data": {
      "text/html": [
       "<div>\n",
       "<style scoped>\n",
       "    .dataframe tbody tr th:only-of-type {\n",
       "        vertical-align: middle;\n",
       "    }\n",
       "\n",
       "    .dataframe tbody tr th {\n",
       "        vertical-align: top;\n",
       "    }\n",
       "\n",
       "    .dataframe thead tr th {\n",
       "        text-align: left;\n",
       "    }\n",
       "</style>\n",
       "<table border=\"1\" class=\"dataframe\">\n",
       "  <thead>\n",
       "    <tr>\n",
       "      <th></th>\n",
       "      <th colspan=\"3\" halign=\"left\">上学期</th>\n",
       "      <th colspan=\"3\" halign=\"left\">下学期</th>\n",
       "    </tr>\n",
       "    <tr>\n",
       "      <th></th>\n",
       "      <th>python</th>\n",
       "      <th>java</th>\n",
       "      <th>c</th>\n",
       "      <th>python</th>\n",
       "      <th>java</th>\n",
       "      <th>c</th>\n",
       "    </tr>\n",
       "  </thead>\n",
       "  <tbody>\n",
       "    <tr>\n",
       "      <th>tom</th>\n",
       "      <td>40</td>\n",
       "      <td>61</td>\n",
       "      <td>95</td>\n",
       "      <td>20</td>\n",
       "      <td>98</td>\n",
       "      <td>95</td>\n",
       "    </tr>\n",
       "    <tr>\n",
       "      <th>lucy</th>\n",
       "      <td>75</td>\n",
       "      <td>43</td>\n",
       "      <td>84</td>\n",
       "      <td>23</td>\n",
       "      <td>9</td>\n",
       "      <td>8</td>\n",
       "    </tr>\n",
       "    <tr>\n",
       "      <th>jack</th>\n",
       "      <td>51</td>\n",
       "      <td>46</td>\n",
       "      <td>58</td>\n",
       "      <td>53</td>\n",
       "      <td>84</td>\n",
       "      <td>68</td>\n",
       "    </tr>\n",
       "  </tbody>\n",
       "</table>\n",
       "</div>"
      ],
      "text/plain": [
       "        上学期             下学期         \n",
       "     python java   c python java   c\n",
       "tom      40   61  95     20   98  95\n",
       "lucy     75   43  84     23    9   8\n",
       "jack     51   46  58     53   84  68"
      ]
     },
     "execution_count": 7,
     "metadata": {},
     "output_type": "execute_result"
    }
   ],
   "source": [
    "df_3 = DataFrame(data_3,index=index_2,columns=cols_2)\n",
    "df_3"
   ]
  },
  {
   "cell_type": "markdown",
   "id": "7ae3efd1",
   "metadata": {},
   "source": [
    "### （1）Series的操作  \n",
    "【重要】对于Series来说，直接用中括号[]与使用.loc()完全一样，推荐使用.loc[]索引和切片。  \n",
    "     -  索引  \n",
    "     -  切片  \n",
    " "
   ]
  },
  {
   "cell_type": "code",
   "execution_count": 8,
   "id": "73308900",
   "metadata": {},
   "outputs": [
    {
     "data": {
      "text/html": [
       "<div>\n",
       "<style scoped>\n",
       "    .dataframe tbody tr th:only-of-type {\n",
       "        vertical-align: middle;\n",
       "    }\n",
       "\n",
       "    .dataframe tbody tr th {\n",
       "        vertical-align: top;\n",
       "    }\n",
       "\n",
       "    .dataframe thead th {\n",
       "        text-align: right;\n",
       "    }\n",
       "</style>\n",
       "<table border=\"1\" class=\"dataframe\">\n",
       "  <thead>\n",
       "    <tr style=\"text-align: right;\">\n",
       "      <th></th>\n",
       "      <th>python</th>\n",
       "      <th>java</th>\n",
       "      <th>c</th>\n",
       "    </tr>\n",
       "  </thead>\n",
       "  <tbody>\n",
       "    <tr>\n",
       "      <th>tom</th>\n",
       "      <td>40</td>\n",
       "      <td>61</td>\n",
       "      <td>95</td>\n",
       "    </tr>\n",
       "    <tr>\n",
       "      <th>lucy</th>\n",
       "      <td>75</td>\n",
       "      <td>43</td>\n",
       "      <td>84</td>\n",
       "    </tr>\n",
       "    <tr>\n",
       "      <th>jack</th>\n",
       "      <td>51</td>\n",
       "      <td>46</td>\n",
       "      <td>58</td>\n",
       "    </tr>\n",
       "  </tbody>\n",
       "</table>\n",
       "</div>"
      ],
      "text/plain": [
       "      python  java   c\n",
       "tom       40    61  95\n",
       "lucy      75    43  84\n",
       "jack      51    46  58"
      ]
     },
     "execution_count": 8,
     "metadata": {},
     "output_type": "execute_result"
    }
   ],
   "source": [
    "tmp_sxq = df_3['上学期']\n",
    "tmp_sxq"
   ]
  },
  {
   "cell_type": "markdown",
   "id": "e80ac245",
   "metadata": {},
   "source": [
    "### （2）DataFrame的操作    \n",
    "     -  直接使用列名称来进行索引\n",
    "     -  行多级索引的索引与切片操作"
   ]
  },
  {
   "cell_type": "code",
   "execution_count": 9,
   "id": "757fe3cd",
   "metadata": {},
   "outputs": [
    {
     "data": {
      "text/plain": [
       "40"
      ]
     },
     "execution_count": 9,
     "metadata": {},
     "output_type": "execute_result"
    }
   ],
   "source": [
    "df_3.loc['tom',('上学期','python')]"
   ]
  },
  {
   "cell_type": "code",
   "execution_count": 10,
   "id": "823cf029",
   "metadata": {},
   "outputs": [
    {
     "data": {
      "text/html": [
       "<div>\n",
       "<style scoped>\n",
       "    .dataframe tbody tr th:only-of-type {\n",
       "        vertical-align: middle;\n",
       "    }\n",
       "\n",
       "    .dataframe tbody tr th {\n",
       "        vertical-align: top;\n",
       "    }\n",
       "\n",
       "    .dataframe thead tr th {\n",
       "        text-align: left;\n",
       "    }\n",
       "</style>\n",
       "<table border=\"1\" class=\"dataframe\">\n",
       "  <thead>\n",
       "    <tr>\n",
       "      <th></th>\n",
       "      <th>下学期</th>\n",
       "      <th>上学期</th>\n",
       "    </tr>\n",
       "    <tr>\n",
       "      <th></th>\n",
       "      <th>python</th>\n",
       "      <th>python</th>\n",
       "    </tr>\n",
       "  </thead>\n",
       "  <tbody>\n",
       "    <tr>\n",
       "      <th>tom</th>\n",
       "      <td>20</td>\n",
       "      <td>40</td>\n",
       "    </tr>\n",
       "    <tr>\n",
       "      <th>lucy</th>\n",
       "      <td>23</td>\n",
       "      <td>75</td>\n",
       "    </tr>\n",
       "    <tr>\n",
       "      <th>jack</th>\n",
       "      <td>53</td>\n",
       "      <td>51</td>\n",
       "    </tr>\n",
       "  </tbody>\n",
       "</table>\n",
       "</div>"
      ],
      "text/plain": [
       "        下学期    上学期\n",
       "     python python\n",
       "tom      20     40\n",
       "lucy     23     75\n",
       "jack     53     51"
      ]
     },
     "execution_count": 10,
     "metadata": {},
     "output_type": "execute_result"
    }
   ],
   "source": [
    "df_3[[('下学期','python'),('上学期','python')]]"
   ]
  },
  {
   "cell_type": "code",
   "execution_count": 16,
   "id": "7ae712dd",
   "metadata": {},
   "outputs": [
    {
     "data": {
      "text/html": [
       "<div>\n",
       "<style scoped>\n",
       "    .dataframe tbody tr th:only-of-type {\n",
       "        vertical-align: middle;\n",
       "    }\n",
       "\n",
       "    .dataframe tbody tr th {\n",
       "        vertical-align: top;\n",
       "    }\n",
       "\n",
       "    .dataframe thead tr th {\n",
       "        text-align: left;\n",
       "    }\n",
       "</style>\n",
       "<table border=\"1\" class=\"dataframe\">\n",
       "  <thead>\n",
       "    <tr>\n",
       "      <th></th>\n",
       "      <th>上学期</th>\n",
       "      <th>下学期</th>\n",
       "    </tr>\n",
       "    <tr>\n",
       "      <th></th>\n",
       "      <th>python</th>\n",
       "      <th>python</th>\n",
       "    </tr>\n",
       "  </thead>\n",
       "  <tbody>\n",
       "    <tr>\n",
       "      <th>tom</th>\n",
       "      <td>40</td>\n",
       "      <td>20</td>\n",
       "    </tr>\n",
       "    <tr>\n",
       "      <th>lucy</th>\n",
       "      <td>75</td>\n",
       "      <td>23</td>\n",
       "    </tr>\n",
       "    <tr>\n",
       "      <th>jack</th>\n",
       "      <td>51</td>\n",
       "      <td>53</td>\n",
       "    </tr>\n",
       "  </tbody>\n",
       "</table>\n",
       "</div>"
      ],
      "text/plain": [
       "        上学期    下学期\n",
       "     python python\n",
       "tom      40     20\n",
       "lucy     75     23\n",
       "jack     51     53"
      ]
     },
     "execution_count": 16,
     "metadata": {},
     "output_type": "execute_result"
    }
   ],
   "source": [
    "#隐式索引不受多层级索引的影响，隐式索引永远是单层级。\n",
    "df_3.iloc[:,[0,3]]"
   ]
  },
  {
   "cell_type": "markdown",
   "id": "e1b686d6",
   "metadata": {},
   "source": [
    "### （3）多层级索引的变形操作（stack）    \n",
    "     -  stack() 使用stack()的时候，level等于哪一个，哪一个就消失，出现在行里。\n",
    "     -  unstack() 使用unstack()的时候，level等于哪一个，哪一个就消失，出现在列里。\n",
    "     "
   ]
  },
  {
   "cell_type": "code",
   "execution_count": 17,
   "id": "d3d8abd2",
   "metadata": {},
   "outputs": [],
   "source": [
    "df_4 = df_3.copy()"
   ]
  },
  {
   "cell_type": "code",
   "execution_count": 18,
   "id": "0c56199d",
   "metadata": {},
   "outputs": [
    {
     "data": {
      "text/html": [
       "<div>\n",
       "<style scoped>\n",
       "    .dataframe tbody tr th:only-of-type {\n",
       "        vertical-align: middle;\n",
       "    }\n",
       "\n",
       "    .dataframe tbody tr th {\n",
       "        vertical-align: top;\n",
       "    }\n",
       "\n",
       "    .dataframe thead tr th {\n",
       "        text-align: left;\n",
       "    }\n",
       "</style>\n",
       "<table border=\"1\" class=\"dataframe\">\n",
       "  <thead>\n",
       "    <tr>\n",
       "      <th></th>\n",
       "      <th colspan=\"3\" halign=\"left\">上学期</th>\n",
       "      <th colspan=\"3\" halign=\"left\">下学期</th>\n",
       "    </tr>\n",
       "    <tr>\n",
       "      <th></th>\n",
       "      <th>python</th>\n",
       "      <th>java</th>\n",
       "      <th>c</th>\n",
       "      <th>python</th>\n",
       "      <th>java</th>\n",
       "      <th>c</th>\n",
       "    </tr>\n",
       "  </thead>\n",
       "  <tbody>\n",
       "    <tr>\n",
       "      <th>tom</th>\n",
       "      <td>40</td>\n",
       "      <td>61</td>\n",
       "      <td>95</td>\n",
       "      <td>20</td>\n",
       "      <td>98</td>\n",
       "      <td>95</td>\n",
       "    </tr>\n",
       "    <tr>\n",
       "      <th>lucy</th>\n",
       "      <td>75</td>\n",
       "      <td>43</td>\n",
       "      <td>84</td>\n",
       "      <td>23</td>\n",
       "      <td>9</td>\n",
       "      <td>8</td>\n",
       "    </tr>\n",
       "    <tr>\n",
       "      <th>jack</th>\n",
       "      <td>51</td>\n",
       "      <td>46</td>\n",
       "      <td>58</td>\n",
       "      <td>53</td>\n",
       "      <td>84</td>\n",
       "      <td>68</td>\n",
       "    </tr>\n",
       "  </tbody>\n",
       "</table>\n",
       "</div>"
      ],
      "text/plain": [
       "        上学期             下学期         \n",
       "     python java   c python java   c\n",
       "tom      40   61  95     20   98  95\n",
       "lucy     75   43  84     23    9   8\n",
       "jack     51   46  58     53   84  68"
      ]
     },
     "execution_count": 18,
     "metadata": {},
     "output_type": "execute_result"
    }
   ],
   "source": [
    "df_4"
   ]
  },
  {
   "cell_type": "code",
   "execution_count": 23,
   "id": "150505cb",
   "metadata": {},
   "outputs": [
    {
     "data": {
      "text/html": [
       "<div>\n",
       "<style scoped>\n",
       "    .dataframe tbody tr th:only-of-type {\n",
       "        vertical-align: middle;\n",
       "    }\n",
       "\n",
       "    .dataframe tbody tr th {\n",
       "        vertical-align: top;\n",
       "    }\n",
       "\n",
       "    .dataframe thead th {\n",
       "        text-align: right;\n",
       "    }\n",
       "</style>\n",
       "<table border=\"1\" class=\"dataframe\">\n",
       "  <thead>\n",
       "    <tr style=\"text-align: right;\">\n",
       "      <th></th>\n",
       "      <th></th>\n",
       "      <th>c</th>\n",
       "      <th>java</th>\n",
       "      <th>python</th>\n",
       "    </tr>\n",
       "  </thead>\n",
       "  <tbody>\n",
       "    <tr>\n",
       "      <th rowspan=\"2\" valign=\"top\">tom</th>\n",
       "      <th>上学期</th>\n",
       "      <td>95</td>\n",
       "      <td>61</td>\n",
       "      <td>40</td>\n",
       "    </tr>\n",
       "    <tr>\n",
       "      <th>下学期</th>\n",
       "      <td>95</td>\n",
       "      <td>98</td>\n",
       "      <td>20</td>\n",
       "    </tr>\n",
       "    <tr>\n",
       "      <th rowspan=\"2\" valign=\"top\">lucy</th>\n",
       "      <th>上学期</th>\n",
       "      <td>84</td>\n",
       "      <td>43</td>\n",
       "      <td>75</td>\n",
       "    </tr>\n",
       "    <tr>\n",
       "      <th>下学期</th>\n",
       "      <td>8</td>\n",
       "      <td>9</td>\n",
       "      <td>23</td>\n",
       "    </tr>\n",
       "    <tr>\n",
       "      <th rowspan=\"2\" valign=\"top\">jack</th>\n",
       "      <th>上学期</th>\n",
       "      <td>58</td>\n",
       "      <td>46</td>\n",
       "      <td>51</td>\n",
       "    </tr>\n",
       "    <tr>\n",
       "      <th>下学期</th>\n",
       "      <td>68</td>\n",
       "      <td>84</td>\n",
       "      <td>53</td>\n",
       "    </tr>\n",
       "  </tbody>\n",
       "</table>\n",
       "</div>"
      ],
      "text/plain": [
       "           c  java  python\n",
       "tom  上学期  95    61      40\n",
       "     下学期  95    98      20\n",
       "lucy 上学期  84    43      75\n",
       "     下学期   8     9      23\n",
       "jack 上学期  58    46      51\n",
       "     下学期  68    84      53"
      ]
     },
     "execution_count": 23,
     "metadata": {},
     "output_type": "execute_result"
    }
   ],
   "source": [
    "#level默认值为-1\n",
    "df_4.stack(level=-2)"
   ]
  },
  {
   "cell_type": "code",
   "execution_count": null,
   "id": "0411ae39",
   "metadata": {},
   "outputs": [],
   "source": []
  }
 ],
 "metadata": {
  "kernelspec": {
   "display_name": "Python 3 (ipykernel)",
   "language": "python",
   "name": "python3"
  },
  "language_info": {
   "codemirror_mode": {
    "name": "ipython",
    "version": 3
   },
   "file_extension": ".py",
   "mimetype": "text/x-python",
   "name": "python",
   "nbconvert_exporter": "python",
   "pygments_lexer": "ipython3",
   "version": "3.10.9"
  }
 },
 "nbformat": 4,
 "nbformat_minor": 5
}
