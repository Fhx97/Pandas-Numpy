{
 "cells": [
  {
   "cell_type": "markdown",
   "id": "8db5ac91",
   "metadata": {},
   "source": [
    " %run XXX.py\n",
    " 运行外部python文件，相当于把整个文件的资源加载到jupyter notebook中，所以py文件中所有的变量、函数等都可以直接使用。\n",
    " "
   ]
  },
  {
   "cell_type": "markdown",
   "id": "699ee789",
   "metadata": {},
   "source": [
    "用下面命令计算statement的运行时间：\n",
    "%time statement\n",
    "\n",
    "%  表示检测一行代码\n",
    "%% 表示检测多行代码\n",
    "\n",
    "time   代码运行以此\n",
    "timeit 代码运行多次求平均时间\n",
    "\n",
    "计算一行代码的运行时间，必须写在同一行\n"
   ]
  },
  {
   "cell_type": "markdown",
   "id": "435071e2",
   "metadata": {},
   "source": [
    "Mac Linux  使用！\n",
    "Windows   使用%\n",
    "%pwd 查看当前工作路径"
   ]
  },
  {
   "cell_type": "code",
   "execution_count": 2,
   "id": "a926fdcd",
   "metadata": {},
   "outputs": [
    {
     "data": {
      "text/plain": [
       "'C:\\\\Users\\\\丰浩翔\\\\Fhxxx'"
      ]
     },
     "execution_count": 2,
     "metadata": {},
     "output_type": "execute_result"
    }
   ],
   "source": [
    "%pwd"
   ]
  },
  {
   "cell_type": "markdown",
   "id": "1aec56fc",
   "metadata": {},
   "source": [
    "每一个cell独立运行，资源共享，所以要保证代码的完整性，一定要保证每一个cell都在对应顺序上运行。"
   ]
  },
  {
   "cell_type": "code",
   "execution_count": null,
   "id": "a0b695b6",
   "metadata": {},
   "outputs": [],
   "source": []
  }
 ],
 "metadata": {
  "kernelspec": {
   "display_name": "Python 3 (ipykernel)",
   "language": "python",
   "name": "python3"
  },
  "language_info": {
   "codemirror_mode": {
    "name": "ipython",
    "version": 3
   },
   "file_extension": ".py",
   "mimetype": "text/x-python",
   "name": "python",
   "nbconvert_exporter": "python",
   "pygments_lexer": "ipython3",
   "version": "3.10.9"
  }
 },
 "nbformat": 4,
 "nbformat_minor": 5
}
