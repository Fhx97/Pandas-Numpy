{
 "cells": [
  {
   "cell_type": "markdown",
   "id": "9cc7f5b9",
   "metadata": {},
   "source": [
    "Numpy 提供了一种数组类型，高纬度数组，提供了数据分析的运算基础（业务表一般是二维）\n",
    "\n",
    "Numpy的数组：一个[有序]且数据类型[相同]的集合。"
   ]
  },
  {
   "cell_type": "code",
   "execution_count": 1,
   "id": "3c10ba9f",
   "metadata": {},
   "outputs": [],
   "source": [
    "import numpy as np"
   ]
  },
  {
   "cell_type": "code",
   "execution_count": 2,
   "id": "ada7a3a6",
   "metadata": {},
   "outputs": [
    {
     "data": {
      "text/plain": [
       "'1.23.5'"
      ]
     },
     "execution_count": 2,
     "metadata": {},
     "output_type": "execute_result"
    }
   ],
   "source": [
    "np.__version__"
   ]
  },
  {
   "cell_type": "markdown",
   "id": "c8c294ff",
   "metadata": {},
   "source": [
    "使用np.array()由python list 创建（在C语言看来列表就是一个指针数组）\n",
    "\n",
    "Numpy设计初衷是用于运输的，所以对数据类型进行统一优化\n",
    "\n",
    "注意：\n",
    "（1）numpy默认ndarray的所有元素的类型是相同的；\n",
    "（2）如果穿金路的列表中包含不同的类型，则统一为统一类型，优先级：str>float>int"
   ]
  },
  {
   "cell_type": "markdown",
   "id": "db79dbb2",
   "metadata": {},
   "source": [
    "# 创建np的routines函数创建：\n",
    "1）np.ones(shape.dtype=None,order='C') 用1来填充一个高维数组 order='C'用于表示内存的默认参数\n",
    "shape = (m,n) m行n列 二维数组\n",
    "shape = (m)  m个元素的一维数组 [1,2,3]\n",
    "shape = (m,) m个元素的一维数组\n",
    "shape = (m,1) m行1列的二维数组 [[1],[2].[3]]\n",
    "shape = (1,n) 1行n列的二维数组 [[1,2,3]]\n",
    "\n",
    "2）np.zeros(shape.dtype=float,order='C') 用0来填充一个高维数组\n",
    "\n",
    "3）np.full(shape,fill_value,dtype=None,order='C') 制定特定的值（fill_value）填充高维数组\n",
    "\n",
    "4）np.eye(N,M=None,dtype=float) 单位矩阵生成（N控制矩阵阶数）\n",
    "对角线为1其他位置为0\n",
    "\n",
    "5）np.linspace(start,stop,num=50,endpoint=True,restep=False,dtype=None) 等差数列生成\n",
    "\n",
    "6）np.arange([start,]stop,[step,]dtype=None) 等差数列生成\n",
    "\n",
    "7）np.random.randint(low,high=None,size=None,dtype='T') 随机数生生成\n",
    "\n",
    "8）正态分布函数\n",
    "np.random.randn(d0,d1,...,dn)标准正态分布\n",
    "np.random.normal()普通正态分布\n",
    "\n",
    "9）np.random.random(size=None) 生成0到1的随机数，左闭右开\n",
    "\n",
    "10）np.random.permutation()生成一组随机索引\n"
   ]
  },
  {
   "cell_type": "code",
   "execution_count": 3,
   "id": "7aff88a3",
   "metadata": {},
   "outputs": [
    {
     "data": {
      "text/plain": [
       "array([[1, 1, 1],\n",
       "       [1, 1, 1],\n",
       "       [1, 1, 1],\n",
       "       [1, 1, 1],\n",
       "       [1, 1, 1]], dtype=int16)"
      ]
     },
     "execution_count": 3,
     "metadata": {},
     "output_type": "execute_result"
    }
   ],
   "source": [
    "np.ones(shape=(5,3),dtype=np.int16)"
   ]
  },
  {
   "cell_type": "code",
   "execution_count": 5,
   "id": "d2f8ede7",
   "metadata": {},
   "outputs": [
    {
     "data": {
      "text/plain": [
       "array([[0., 1., 0., 0., 0.],\n",
       "       [0., 0., 1., 0., 0.],\n",
       "       [0., 0., 0., 1., 0.],\n",
       "       [0., 0., 0., 0., 1.],\n",
       "       [0., 0., 0., 0., 0.]])"
      ]
     },
     "execution_count": 5,
     "metadata": {},
     "output_type": "execute_result"
    }
   ],
   "source": [
    "np.eye(N=5,k=1)\n",
    "#k可以移动对角线的位置（k为正对角线右移，k为负对角线则左移）"
   ]
  },
  {
   "cell_type": "code",
   "execution_count": 3,
   "id": "cd889add",
   "metadata": {},
   "outputs": [
    {
     "data": {
      "text/plain": [
       "array([0., 1., 2., 3., 4., 5., 6., 7., 8., 9.])"
      ]
     },
     "execution_count": 3,
     "metadata": {},
     "output_type": "execute_result"
    }
   ],
   "source": [
    "np.linspace(0,10,10,endpoint=False)"
   ]
  },
  {
   "cell_type": "code",
   "execution_count": 4,
   "id": "72d7ddb1",
   "metadata": {},
   "outputs": [
    {
     "data": {
      "text/plain": [
       "array([0, 2, 4, 6, 8])"
      ]
     },
     "execution_count": 4,
     "metadata": {},
     "output_type": "execute_result"
    }
   ],
   "source": [
    "np.arange(0,10,step=2)"
   ]
  },
  {
   "cell_type": "code",
   "execution_count": 5,
   "id": "877e72e1",
   "metadata": {},
   "outputs": [
    {
     "data": {
      "text/plain": [
       "array([[40, 71, 26, 37, 37],\n",
       "       [43, 93, 90, 95, 18],\n",
       "       [44, 48, 57,  8, 62],\n",
       "       [91,  4, 91, 46, 29],\n",
       "       [ 0, 83, 23, 71, 45]])"
      ]
     },
     "execution_count": 5,
     "metadata": {},
     "output_type": "execute_result"
    }
   ],
   "source": [
    "np.random.randint(0,100,size=(5,5))"
   ]
  },
  {
   "cell_type": "code",
   "execution_count": 6,
   "id": "b1f5a66d",
   "metadata": {},
   "outputs": [
    {
     "data": {
      "text/plain": [
       "array([[ 0.39038102,  0.05754553,  0.37501992, -0.60336449, -0.22713523],\n",
       "       [-1.16803464, -0.27524526,  0.79790722,  0.09204001,  0.46664741],\n",
       "       [-0.66548086,  0.66302854,  1.87393926, -0.705034  , -0.75466561]])"
      ]
     },
     "execution_count": 6,
     "metadata": {},
     "output_type": "execute_result"
    }
   ],
   "source": [
    "np.random.randn(3,5)"
   ]
  },
  {
   "cell_type": "code",
   "execution_count": 7,
   "id": "b462dd03",
   "metadata": {
    "scrolled": true
   },
   "outputs": [
    {
     "data": {
      "text/plain": [
       "174.75827615244194"
      ]
     },
     "execution_count": 7,
     "metadata": {},
     "output_type": "execute_result"
    }
   ],
   "source": [
    "np.random.normal(loc=175,scale=0.2)#loc表示期望，scale表示标准差"
   ]
  },
  {
   "cell_type": "markdown",
   "id": "e73d7f50",
   "metadata": {},
   "source": [
    "# ndarray的属性\n",
    "\n",
    "4个必记参数\n",
    "ndim：维度\n",
    "shape:形状（各维度的长度）\n",
    "size:总长度\n",
    "dtype:元素类型\n"
   ]
  },
  {
   "cell_type": "markdown",
   "id": "d8215207",
   "metadata": {},
   "source": [
    "# ndarray的基本操作\n",
    "## 1.索引\n",
    "\n",
    "一维与列表完全一致 多维时同理\n",
    "赋值与访问操作相同\n",
    "\n"
   ]
  },
  {
   "cell_type": "code",
   "execution_count": 4,
   "id": "ed1ca0ea",
   "metadata": {},
   "outputs": [],
   "source": [
    "arr_1 = np.array([[1,2,3],[4,5,6]])"
   ]
  },
  {
   "cell_type": "code",
   "execution_count": 5,
   "id": "1361db90",
   "metadata": {},
   "outputs": [
    {
     "data": {
      "text/plain": [
       "1"
      ]
     },
     "execution_count": 5,
     "metadata": {},
     "output_type": "execute_result"
    }
   ],
   "source": [
    "#列表方式访问\n",
    "arr_1[0][0]"
   ]
  },
  {
   "cell_type": "code",
   "execution_count": 6,
   "id": "5cd91af8",
   "metadata": {},
   "outputs": [
    {
     "data": {
      "text/plain": [
       "1"
      ]
     },
     "execution_count": 6,
     "metadata": {},
     "output_type": "execute_result"
    }
   ],
   "source": [
    "#Numpy独有索引访问,array[m,n,...]描述的是对应维度的索引值\n",
    "arr_1[0,0]"
   ]
  },
  {
   "cell_type": "code",
   "execution_count": 7,
   "id": "dec95caf",
   "metadata": {},
   "outputs": [],
   "source": [
    "arr_2 = np.array([1,2,3,4,5])"
   ]
  },
  {
   "cell_type": "code",
   "execution_count": 8,
   "id": "db532432",
   "metadata": {},
   "outputs": [
    {
     "data": {
      "text/plain": [
       "array([1, 3, 5])"
      ]
     },
     "execution_count": 8,
     "metadata": {},
     "output_type": "execute_result"
    }
   ],
   "source": [
    "#使用列表作为索引访问\n",
    "arr_2[[0,2,4]]"
   ]
  },
  {
   "cell_type": "code",
   "execution_count": 9,
   "id": "449bacda",
   "metadata": {},
   "outputs": [
    {
     "data": {
      "text/plain": [
       "array([1, 3, 5])"
      ]
     },
     "execution_count": 9,
     "metadata": {},
     "output_type": "execute_result"
    }
   ],
   "source": [
    "#使用布尔型列表（需与被访问数组长度一致）作为索引访问，True对应的值会被返回\n",
    "bool_list = [True,False,True,False,True]\n",
    "arr_2[bool_list]"
   ]
  },
  {
   "cell_type": "code",
   "execution_count": 10,
   "id": "b7b0286e",
   "metadata": {},
   "outputs": [
    {
     "data": {
      "text/plain": [
       "array([4, 5])"
      ]
     },
     "execution_count": 10,
     "metadata": {},
     "output_type": "execute_result"
    }
   ],
   "source": [
    "#获取数组中大于3的数\n",
    "arr_2[arr_2>3]"
   ]
  },
  {
   "cell_type": "markdown",
   "id": "d6809724",
   "metadata": {},
   "source": [
    "## 2.切片\n",
    "\n",
    "一维与列表完全一致 多维时同理\n",
    "所有切片方式都是“左闭右开”\n",
    "将数据反转，例如[1,2,3] --> [3,2,1]\n",
    "两个 ：：进行切片\n"
   ]
  },
  {
   "cell_type": "code",
   "execution_count": 11,
   "id": "7f8ce6a6",
   "metadata": {},
   "outputs": [],
   "source": [
    "arr_3 = np.randoma.randint(0,100,size=(5,6))"
   ]
  },
  {
   "cell_type": "code",
   "execution_count": 13,
   "id": "1812e091",
   "metadata": {},
   "outputs": [
    {
     "data": {
      "text/plain": [
       "array([[73, 14, 60, 46, 94, 88],\n",
       "       [16, 30, 49, 89, 42, 28],\n",
       "       [88,  3, 95, 33, 82,  3]])"
      ]
     },
     "execution_count": 13,
     "metadata": {},
     "output_type": "execute_result"
    }
   ],
   "source": [
    "#行切片\n",
    "arr_3[0:3]"
   ]
  },
  {
   "cell_type": "code",
   "execution_count": 14,
   "id": "66aac269",
   "metadata": {},
   "outputs": [
    {
     "data": {
      "text/plain": [
       "array([[73, 14, 60],\n",
       "       [16, 30, 49],\n",
       "       [88,  3, 95],\n",
       "       [ 1, 14, 70],\n",
       "       [34, 27, 71]])"
      ]
     },
     "execution_count": 14,
     "metadata": {},
     "output_type": "execute_result"
    }
   ],
   "source": [
    "#列切片,不论多少维，每一个维度切片范围都是用冒号表示，使用逗号分割，最后一个维度可以省略，但是被切维度之前的维度不能省。\n",
    "arr_3[:,0:3]"
   ]
  },
  {
   "cell_type": "markdown",
   "id": "d2a2d1d0",
   "metadata": {},
   "source": [
    "## 3.变形\n",
    "\n",
    "使用reshape函数，注意参数是一个tuple！"
   ]
  },
  {
   "cell_type": "code",
   "execution_count": 15,
   "id": "827fce14",
   "metadata": {},
   "outputs": [
    {
     "data": {
      "text/plain": [
       "array([[5, 9, 4, 4, 5],\n",
       "       [3, 8, 7, 7, 1],\n",
       "       [2, 1, 9, 2, 9],\n",
       "       [8, 3, 3, 4, 3]])"
      ]
     },
     "execution_count": 15,
     "metadata": {},
     "output_type": "execute_result"
    }
   ],
   "source": [
    "#变形\n",
    "arr_4=np.random.randint(0,10,size=(20))\n",
    "arr_4.reshape(4,5)"
   ]
  },
  {
   "cell_type": "markdown",
   "id": "d57f9923",
   "metadata": {},
   "source": [
    "## 4.级联\n",
    "\n",
    "1.np.concatenate()级联需要注意的点：\n",
    "  1）级联的参数必须是列表：一定要加中括号或小括号\n",
    "  2）维度必须相同\n",
    "  3）形状相符\n",
    "2.[重点]级联的方向默认是shape这个tuple的第一个值所代表的维度方向\n",
    "3.可通过axis参数改变级联的方向\n",
    "\n",
    "np.hstack 水平级联\n",
    "np.vstack 垂直级联"
   ]
  },
  {
   "cell_type": "code",
   "execution_count": 16,
   "id": "a1c4f7e9",
   "metadata": {},
   "outputs": [
    {
     "data": {
      "text/plain": [
       "array([[1, 9, 0],\n",
       "       [3, 9, 4],\n",
       "       [3, 9, 5]])"
      ]
     },
     "metadata": {},
     "output_type": "display_data"
    },
    {
     "data": {
      "text/plain": [
       "array([[14, 17, 10],\n",
       "       [12, 14, 18],\n",
       "       [17, 11, 19]])"
      ]
     },
     "metadata": {},
     "output_type": "display_data"
    }
   ],
   "source": [
    "#级联\n",
    "arr_5=np.random.randint(0,10,size=(3,3))\n",
    "arr_6=np.random.randint(10,20,size=(3,3))\n",
    "display(arr_5,arr_6)"
   ]
  },
  {
   "cell_type": "code",
   "execution_count": 18,
   "id": "19a6e73d",
   "metadata": {},
   "outputs": [
    {
     "data": {
      "text/plain": [
       "array([[ 1,  9,  0],\n",
       "       [ 3,  9,  4],\n",
       "       [ 3,  9,  5],\n",
       "       [14, 17, 10],\n",
       "       [12, 14, 18],\n",
       "       [17, 11, 19]])"
      ]
     },
     "execution_count": 18,
     "metadata": {},
     "output_type": "execute_result"
    }
   ],
   "source": [
    "np.concatenate((arr_5,arr_6))"
   ]
  },
  {
   "cell_type": "code",
   "execution_count": 19,
   "id": "0b9be9b4",
   "metadata": {},
   "outputs": [
    {
     "data": {
      "text/plain": [
       "array([[ 1,  9,  0, 14, 17, 10],\n",
       "       [ 3,  9,  4, 12, 14, 18],\n",
       "       [ 3,  9,  5, 17, 11, 19]])"
      ]
     },
     "execution_count": 19,
     "metadata": {},
     "output_type": "execute_result"
    }
   ],
   "source": [
    "#通过axis的取值来决定联接方向，0为纵向，1为横向\n",
    "np.concatenate((arr_5,arr_6),axis=1)"
   ]
  },
  {
   "cell_type": "markdown",
   "id": "a03b0278",
   "metadata": {},
   "source": [
    "## 5.切分\n",
    "\n",
    "与级联类似，三个函数完成切分工作：\n",
    "（1）np.split\n",
    "（2）np.vsplit\n",
    "（3）np.hsplit\n"
   ]
  },
  {
   "cell_type": "code",
   "execution_count": 20,
   "id": "01290a93",
   "metadata": {},
   "outputs": [
    {
     "data": {
      "text/plain": [
       "array([[16, 10, 23, 90, 33, 89],\n",
       "       [ 2,  5, 45, 23, 22, 61],\n",
       "       [27, 18, 38, 36, 60,  1],\n",
       "       [36, 80,  5, 24, 33,  6],\n",
       "       [69,  0, 29,  8, 83, 68],\n",
       "       [97, 20, 51, 60,  2, 66]])"
      ]
     },
     "execution_count": 20,
     "metadata": {},
     "output_type": "execute_result"
    }
   ],
   "source": [
    "arr_7=np.random.randint(0,100,size=(6,6))\n",
    "arr_7"
   ]
  },
  {
   "cell_type": "code",
   "execution_count": 24,
   "id": "25665924",
   "metadata": {},
   "outputs": [
    {
     "data": {
      "text/plain": [
       "array([[16, 10, 23, 90, 33, 89],\n",
       "       [ 2,  5, 45, 23, 22, 61],\n",
       "       [27, 18, 38, 36, 60,  1]])"
      ]
     },
     "metadata": {},
     "output_type": "display_data"
    },
    {
     "data": {
      "text/plain": [
       "array([[36, 80,  5, 24, 33,  6],\n",
       "       [69,  0, 29,  8, 83, 68],\n",
       "       [97, 20, 51, 60,  2, 66]])"
      ]
     },
     "metadata": {},
     "output_type": "display_data"
    }
   ],
   "source": [
    "#直接指定切割的份数，indices_or_sections = [m,n]表示范围（0：m,m:n,n:）\n",
    "arr7_part1,arr7_part2 = np.split(arr_7,indices_or_sections=2)\n",
    "display(arr7_part1,arr7_part2)"
   ]
  },
  {
   "cell_type": "code",
   "execution_count": 25,
   "id": "1e28e94c",
   "metadata": {},
   "outputs": [
    {
     "data": {
      "text/plain": [
       "array([[16, 10, 23],\n",
       "       [ 2,  5, 45],\n",
       "       [27, 18, 38],\n",
       "       [36, 80,  5],\n",
       "       [69,  0, 29],\n",
       "       [97, 20, 51]])"
      ]
     },
     "metadata": {},
     "output_type": "display_data"
    },
    {
     "data": {
      "text/plain": [
       "array([[90, 33, 89],\n",
       "       [23, 22, 61],\n",
       "       [36, 60,  1],\n",
       "       [24, 33,  6],\n",
       "       [ 8, 83, 68],\n",
       "       [60,  2, 66]])"
      ]
     },
     "metadata": {},
     "output_type": "display_data"
    }
   ],
   "source": [
    "#竖切\n",
    "arr7_part3,arr7_part4 = np.split(arr_7,indices_or_sections=2,axis=1)\n",
    "display(arr7_part3,arr7_part4)"
   ]
  },
  {
   "cell_type": "markdown",
   "id": "125c423b",
   "metadata": {},
   "source": [
    "## 6.副本\n",
    "所有赋值预算不会为ndarray的任何元素创建副本，对赋值后的对象操作也对原来的对象生效。\n",
    "可用copy()函数创建副本。"
   ]
  },
  {
   "cell_type": "markdown",
   "id": "5f177858",
   "metadata": {},
   "source": [
    "# ndarray的聚合操作\n"
   ]
  },
  {
   "cell_type": "code",
   "execution_count": 26,
   "id": "7e824acf",
   "metadata": {},
   "outputs": [
    {
     "data": {
      "text/plain": [
       "array([3, 7, 7, 8, 7, 9, 3, 0, 3, 5])"
      ]
     },
     "execution_count": 26,
     "metadata": {},
     "output_type": "execute_result"
    }
   ],
   "source": [
    "arr_8 = np.random.randint(0,10,size=10)\n",
    "arr_8"
   ]
  },
  {
   "cell_type": "code",
   "execution_count": 27,
   "id": "3b84d54b",
   "metadata": {},
   "outputs": [
    {
     "data": {
      "text/plain": [
       "52"
      ]
     },
     "execution_count": 27,
     "metadata": {},
     "output_type": "execute_result"
    }
   ],
   "source": [
    "#求和\n",
    "np.sum(arr_8)"
   ]
  },
  {
   "cell_type": "code",
   "execution_count": 28,
   "id": "fccce192",
   "metadata": {},
   "outputs": [
    {
     "data": {
      "text/plain": [
       "5.2"
      ]
     },
     "execution_count": 28,
     "metadata": {},
     "output_type": "execute_result"
    }
   ],
   "source": [
    "#求均值\n",
    "np.mean(arr_8)"
   ]
  },
  {
   "cell_type": "code",
   "execution_count": 29,
   "id": "f024d746",
   "metadata": {},
   "outputs": [
    {
     "data": {
      "text/plain": [
       "9"
      ]
     },
     "metadata": {},
     "output_type": "display_data"
    },
    {
     "data": {
      "text/plain": [
       "0"
      ]
     },
     "metadata": {},
     "output_type": "display_data"
    }
   ],
   "source": [
    "#求最大值和最小值\n",
    "display(np.max(arr_8),np.min(arr_8))"
   ]
  },
  {
   "cell_type": "code",
   "execution_count": 30,
   "id": "199c85ca",
   "metadata": {},
   "outputs": [
    {
     "data": {
      "text/plain": [
       "5"
      ]
     },
     "metadata": {},
     "output_type": "display_data"
    },
    {
     "data": {
      "text/plain": [
       "7"
      ]
     },
     "metadata": {},
     "output_type": "display_data"
    }
   ],
   "source": [
    "#求最大值与最小值索引\n",
    "display(arr_8.argmax(),arr_8.argmin())"
   ]
  },
  {
   "cell_type": "code",
   "execution_count": 31,
   "id": "73a7bbf6",
   "metadata": {},
   "outputs": [
    {
     "data": {
      "text/plain": [
       "2.7129319932501077"
      ]
     },
     "execution_count": 31,
     "metadata": {},
     "output_type": "execute_result"
    }
   ],
   "source": [
    "#求标准方差\n",
    "arr_8.std()"
   ]
  },
  {
   "cell_type": "code",
   "execution_count": 32,
   "id": "d5857854",
   "metadata": {},
   "outputs": [
    {
     "data": {
      "text/plain": [
       "7.360000000000001"
      ]
     },
     "execution_count": 32,
     "metadata": {},
     "output_type": "execute_result"
    }
   ],
   "source": [
    "#求方差\n",
    "arr_8.var()"
   ]
  },
  {
   "cell_type": "code",
   "execution_count": 33,
   "id": "e364dae2",
   "metadata": {},
   "outputs": [
    {
     "data": {
      "text/plain": [
       "6.0"
      ]
     },
     "execution_count": 33,
     "metadata": {},
     "output_type": "execute_result"
    }
   ],
   "source": [
    "#求中位数，注意语法格式，不能用arr_8.median()去求\n",
    "np.median(arr_8)"
   ]
  },
  {
   "cell_type": "code",
   "execution_count": 35,
   "id": "1047e242",
   "metadata": {},
   "outputs": [
    {
     "data": {
      "text/plain": [
       "array([0.025, 0.05 , 0.075])"
      ]
     },
     "execution_count": 35,
     "metadata": {},
     "output_type": "execute_result"
    }
   ],
   "source": [
    "#求百分位数，一般用于异常值检测\n",
    "arr_9 = np.arange(0,11,step=1)\n",
    "np.percentile(arr_9,[0.25,0.5,0.75])"
   ]
  },
  {
   "cell_type": "code",
   "execution_count": 37,
   "id": "bbc2d74e",
   "metadata": {},
   "outputs": [
    {
     "data": {
      "text/plain": [
       "True"
      ]
     },
     "metadata": {},
     "output_type": "display_data"
    },
    {
     "data": {
      "text/plain": [
       "False"
      ]
     },
     "metadata": {},
     "output_type": "display_data"
    }
   ],
   "source": [
    "#any 检测一个bool数组中，是否至少存在一个True\n",
    "#all 检测一个bool数组中，是否全为True\n",
    "arr_10 = np.array([True,False,True,False])\n",
    "display(arr_10.any(),arr_10.all())"
   ]
  },
  {
   "cell_type": "code",
   "execution_count": 39,
   "id": "99b9096f",
   "metadata": {},
   "outputs": [
    {
     "data": {
      "text/plain": [
       "array([ True, False, False, False,  True,  True, False,  True, False,\n",
       "        True])"
      ]
     },
     "execution_count": 39,
     "metadata": {},
     "output_type": "execute_result"
    }
   ],
   "source": [
    "#广播运算 支持一个numpy.array和任意一个数运算\n",
    "#找出一组数据中大于其平均值的数\n",
    "arr_11 = np.array([9,1,2,0,6,7,4,8,1,7])\n",
    "arr_11 > arr_11.mean()"
   ]
  },
  {
   "cell_type": "code",
   "execution_count": 40,
   "id": "ffba79e0",
   "metadata": {},
   "outputs": [
    {
     "data": {
      "text/plain": [
       "array([9, 6, 7, 8, 7])"
      ]
     },
     "execution_count": 40,
     "metadata": {},
     "output_type": "execute_result"
    }
   ],
   "source": [
    "arr_11[arr_11 > arr_11.mean()]"
   ]
  },
  {
   "cell_type": "markdown",
   "id": "6f786f1b",
   "metadata": {},
   "source": [
    "# 广播机制\n",
    "\n",
    "[重要]ndarray广播机制的两条规则\n",
    "\n",
    "（1）规则一：为缺失的维度补充1\n",
    "（2）规则二：假定缺失元素用已有值填充"
   ]
  },
  {
   "cell_type": "code",
   "execution_count": 41,
   "id": "a34b2e9b",
   "metadata": {},
   "outputs": [
    {
     "data": {
      "text/plain": [
       "array([[1., 1., 1.],\n",
       "       [1., 1., 1.]])"
      ]
     },
     "metadata": {},
     "output_type": "display_data"
    },
    {
     "data": {
      "text/plain": [
       "array([0, 1, 2])"
      ]
     },
     "metadata": {},
     "output_type": "display_data"
    }
   ],
   "source": [
    "a = np.ones((2,3))\n",
    "b = np.arange(3)\n",
    "display(a,b)\n"
   ]
  },
  {
   "cell_type": "code",
   "execution_count": 42,
   "id": "44a604aa",
   "metadata": {},
   "outputs": [
    {
     "data": {
      "text/plain": [
       "array([[1., 2., 3.],\n",
       "       [1., 2., 3.]])"
      ]
     },
     "execution_count": 42,
     "metadata": {},
     "output_type": "execute_result"
    }
   ],
   "source": [
    "a+b"
   ]
  },
  {
   "cell_type": "code",
   "execution_count": 43,
   "id": "49a541fb",
   "metadata": {},
   "outputs": [
    {
     "data": {
      "text/plain": [
       "array([[1.],\n",
       "       [1.],\n",
       "       [1.],\n",
       "       [1.]])"
      ]
     },
     "metadata": {},
     "output_type": "display_data"
    },
    {
     "data": {
      "text/plain": [
       "array([0, 1, 2, 3])"
      ]
     },
     "metadata": {},
     "output_type": "display_data"
    }
   ],
   "source": [
    "c = np.ones((4,1))\n",
    "d = np.arange(4)\n",
    "display(c,d)"
   ]
  },
  {
   "cell_type": "code",
   "execution_count": 44,
   "id": "1f54c698",
   "metadata": {},
   "outputs": [
    {
     "data": {
      "text/plain": [
       "array([[1., 2., 3., 4.],\n",
       "       [1., 2., 3., 4.],\n",
       "       [1., 2., 3., 4.],\n",
       "       [1., 2., 3., 4.]])"
      ]
     },
     "execution_count": 44,
     "metadata": {},
     "output_type": "execute_result"
    }
   ],
   "source": [
    "c+d"
   ]
  },
  {
   "cell_type": "code",
   "execution_count": 46,
   "id": "c079668d",
   "metadata": {},
   "outputs": [
    {
     "data": {
      "text/plain": [
       "array([[ 5,  5],\n",
       "       [11, 11]])"
      ]
     },
     "execution_count": 46,
     "metadata": {},
     "output_type": "execute_result"
    }
   ],
   "source": [
    "#矩阵运算\n",
    "e = np.array([[1,2],[3,4]])\n",
    "f = np.array([[1,1],[2,2]])\n",
    "np.dot(e,f)"
   ]
  },
  {
   "cell_type": "markdown",
   "id": "52aa9cb4",
   "metadata": {},
   "source": [
    "# ndarray的排序\n",
    "\n",
    "## （1）快速排序\n",
    "   \n",
    "   np.sort()与ndarray.sort()都可以，但有区别：\n",
    "   1）np.sort()不改变输入\n",
    "   2）ndarray.sort()本地处理，不占用空间，但改变输入\n",
    "   \n",
    "## （2）部分排序\n",
    "   \n",
    "   np.partition(a,k)\n",
    "   1）当k为正时，我们想要得到最小的k个数\n",
    "   2）当k为负时，我们想要得到最大的k个数\n"
   ]
  }
 ],
 "metadata": {
  "kernelspec": {
   "display_name": "Python 3 (ipykernel)",
   "language": "python",
   "name": "python3"
  },
  "language_info": {
   "codemirror_mode": {
    "name": "ipython",
    "version": 3
   },
   "file_extension": ".py",
   "mimetype": "text/x-python",
   "name": "python",
   "nbconvert_exporter": "python",
   "pygments_lexer": "ipython3",
   "version": "3.10.9"
  }
 },
 "nbformat": 4,
 "nbformat_minor": 5
}
