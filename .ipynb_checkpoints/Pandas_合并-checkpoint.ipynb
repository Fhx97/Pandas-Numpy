{
 "cells": [
  {
   "cell_type": "markdown",
   "id": "9b39825f",
   "metadata": {},
   "source": [
    "# 使用pd.merge()合并\n",
    "\n",
    "  merge与concat的区别在于，merge需要依据某一共同【列】来进行合并。  \n",
    "  使用pd.merge()合并时，会自动根据两者相同column名称的那一列,作为key来进行合并。  \n",
    "  注意每一列元素的顺序不要求一致。  "
   ]
  },
  {
   "cell_type": "markdown",
   "id": "8d4a7d19",
   "metadata": {},
   "source": [
    "  - 合并只跟列有关，两张表要去找内容相同的列来进行合并。  \n",
    "  - 合并的两张表一定存在至少一列，在内容上有对应关系。  \n",
    "  - 合并可以同时参考多列进行，这取决于业务需求。  b"
   ]
  },
  {
   "cell_type": "markdown",
   "id": "b3b5f4ea",
   "metadata": {},
   "source": [
    "  - how='inner'合并的方式：内合并，外合并，左合并，右合并；\n",
    "  - on制定参与合并的列，用于有多列标签相同的情况；\n",
    "  - left_on\\right_on分别指定左右参与合并的列，用于两张表参与合并的标签不同的情况\n",
    "  - suffiexes一般与on参数一起使用，给相同列标签但是没有参与合并的列添加后缀。\n",
    "  - left_index\\right_index指定索引作为合并的参考值。\n",
    "  "
   ]
  },
  {
   "cell_type": "code",
   "execution_count": null,
   "id": "9350388c",
   "metadata": {},
   "outputs": [],
   "source": [
    "# df.set_index(列标签)把某一行设置为行索引"
   ]
  }
 ],
 "metadata": {
  "kernelspec": {
   "display_name": "Python 3 (ipykernel)",
   "language": "python",
   "name": "python3"
  },
  "language_info": {
   "codemirror_mode": {
    "name": "ipython",
    "version": 3
   },
   "file_extension": ".py",
   "mimetype": "text/x-python",
   "name": "python",
   "nbconvert_exporter": "python",
   "pygments_lexer": "ipython3",
   "version": "3.10.9"
  }
 },
 "nbformat": 4,
 "nbformat_minor": 5
}
