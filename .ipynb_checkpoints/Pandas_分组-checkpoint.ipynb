{
 "cells": [
  {
   "cell_type": "code",
   "execution_count": 1,
   "id": "f1691bf1",
   "metadata": {},
   "outputs": [],
   "source": [
    "import pandas as pd\n",
    "import numpy as np\n",
    "from pandas import DataFrame,Series"
   ]
  },
  {
   "cell_type": "code",
   "execution_count": 4,
   "id": "f4a85d33",
   "metadata": {},
   "outputs": [],
   "source": [
    "df = pd.read_csv('test_fhx.csv',encoding='gbk')"
   ]
  },
  {
   "cell_type": "code",
   "execution_count": 6,
   "id": "ca055984",
   "metadata": {},
   "outputs": [
    {
     "data": {
      "text/html": [
       "<div>\n",
       "<style scoped>\n",
       "    .dataframe tbody tr th:only-of-type {\n",
       "        vertical-align: middle;\n",
       "    }\n",
       "\n",
       "    .dataframe tbody tr th {\n",
       "        vertical-align: top;\n",
       "    }\n",
       "\n",
       "    .dataframe thead th {\n",
       "        text-align: right;\n",
       "    }\n",
       "</style>\n",
       "<table border=\"1\" class=\"dataframe\">\n",
       "  <thead>\n",
       "    <tr style=\"text-align: right;\">\n",
       "      <th></th>\n",
       "      <th>ID</th>\n",
       "      <th>class</th>\n",
       "      <th>dmg</th>\n",
       "      <th>sex</th>\n",
       "    </tr>\n",
       "  </thead>\n",
       "  <tbody>\n",
       "    <tr>\n",
       "      <th>0</th>\n",
       "      <td>10001</td>\n",
       "      <td>近战</td>\n",
       "      <td>782</td>\n",
       "      <td>男</td>\n",
       "    </tr>\n",
       "    <tr>\n",
       "      <th>1</th>\n",
       "      <td>10002</td>\n",
       "      <td>近战</td>\n",
       "      <td>146</td>\n",
       "      <td>女</td>\n",
       "    </tr>\n",
       "    <tr>\n",
       "      <th>2</th>\n",
       "      <td>10003</td>\n",
       "      <td>近战</td>\n",
       "      <td>256</td>\n",
       "      <td>女</td>\n",
       "    </tr>\n",
       "    <tr>\n",
       "      <th>3</th>\n",
       "      <td>10004</td>\n",
       "      <td>近战</td>\n",
       "      <td>511</td>\n",
       "      <td>男</td>\n",
       "    </tr>\n",
       "    <tr>\n",
       "      <th>4</th>\n",
       "      <td>10005</td>\n",
       "      <td>近战</td>\n",
       "      <td>457</td>\n",
       "      <td>男</td>\n",
       "    </tr>\n",
       "    <tr>\n",
       "      <th>...</th>\n",
       "      <td>...</td>\n",
       "      <td>...</td>\n",
       "      <td>...</td>\n",
       "      <td>...</td>\n",
       "    </tr>\n",
       "    <tr>\n",
       "      <th>94</th>\n",
       "      <td>10095</td>\n",
       "      <td>远战</td>\n",
       "      <td>766</td>\n",
       "      <td>女</td>\n",
       "    </tr>\n",
       "    <tr>\n",
       "      <th>95</th>\n",
       "      <td>10096</td>\n",
       "      <td>远战</td>\n",
       "      <td>179</td>\n",
       "      <td>男</td>\n",
       "    </tr>\n",
       "    <tr>\n",
       "      <th>96</th>\n",
       "      <td>10097</td>\n",
       "      <td>远战</td>\n",
       "      <td>570</td>\n",
       "      <td>男</td>\n",
       "    </tr>\n",
       "    <tr>\n",
       "      <th>97</th>\n",
       "      <td>10098</td>\n",
       "      <td>远战</td>\n",
       "      <td>658</td>\n",
       "      <td>女</td>\n",
       "    </tr>\n",
       "    <tr>\n",
       "      <th>98</th>\n",
       "      <td>10099</td>\n",
       "      <td>远战</td>\n",
       "      <td>801</td>\n",
       "      <td>女</td>\n",
       "    </tr>\n",
       "  </tbody>\n",
       "</table>\n",
       "<p>99 rows × 4 columns</p>\n",
       "</div>"
      ],
      "text/plain": [
       "       ID class  dmg sex\n",
       "0   10001    近战  782   男\n",
       "1   10002    近战  146   女\n",
       "2   10003    近战  256   女\n",
       "3   10004    近战  511   男\n",
       "4   10005    近战  457   男\n",
       "..    ...   ...  ...  ..\n",
       "94  10095    远战  766   女\n",
       "95  10096    远战  179   男\n",
       "96  10097    远战  570   男\n",
       "97  10098    远战  658   女\n",
       "98  10099    远战  801   女\n",
       "\n",
       "[99 rows x 4 columns]"
      ]
     },
     "execution_count": 6,
     "metadata": {},
     "output_type": "execute_result"
    }
   ],
   "source": [
    "df"
   ]
  },
  {
   "cell_type": "code",
   "execution_count": 7,
   "id": "b462da56",
   "metadata": {},
   "outputs": [],
   "source": [
    "group_obj = df.groupby(\"class\")"
   ]
  },
  {
   "cell_type": "code",
   "execution_count": 9,
   "id": "cdc6dceb",
   "metadata": {},
   "outputs": [
    {
     "data": {
      "text/plain": [
       "{'近战': [0, 1, 2, 3, 4, 5, 6, 7, 8, 9, 10, 11, 12, 13, 14, 15, 16, 17, 18, 19, 20, 21, 22, 23, 24, 25, 26, 27, 28, 29, 30, 31, 32, 33, 34, 35, 36, 37, 38, 39, 40, 41, 42, 43, 44, 45, 46, 47, 48, 49, 50, 51, 52, 53, 54, 55, 56, 57, 58, 59, 60], '远战': [61, 62, 63, 64, 65, 66, 67, 68, 69, 70, 71, 72, 73, 74, 75, 76, 77, 78, 79, 80, 81, 82, 83, 84, 85, 86, 87, 88, 89, 90, 91, 92, 93, 94, 95, 96, 97, 98]}"
      ]
     },
     "execution_count": 9,
     "metadata": {},
     "output_type": "execute_result"
    }
   ],
   "source": [
    "# 查看分组对象的信息\n",
    "group_obj.groups"
   ]
  },
  {
   "cell_type": "code",
   "execution_count": 12,
   "id": "b9ccb22f",
   "metadata": {},
   "outputs": [
    {
     "name": "stderr",
     "output_type": "stream",
     "text": [
      "C:\\Windows\\Temp\\ipykernel_14580\\34035779.py:2: FutureWarning: The default value of numeric_only in DataFrameGroupBy.mean is deprecated. In a future version, numeric_only will default to False. Either specify numeric_only or select only columns which should be valid for the function.\n",
      "  avg = group_obj.mean()\n"
     ]
    }
   ],
   "source": [
    "# 聚合只保留可运算的列\n",
    "avg = group_obj.mean()"
   ]
  },
  {
   "cell_type": "code",
   "execution_count": 11,
   "id": "1b380da9",
   "metadata": {},
   "outputs": [
    {
     "name": "stderr",
     "output_type": "stream",
     "text": [
      "C:\\Windows\\Temp\\ipykernel_14580\\1026030959.py:1: FutureWarning: The default value of numeric_only in DataFrameGroupBy.mean is deprecated. In a future version, numeric_only will default to False. Either specify numeric_only or select only columns which should be valid for the function.\n",
      "  group_obj.mean()[\"dmg\"]\n"
     ]
    },
    {
     "data": {
      "text/plain": [
       "class\n",
       "近战    543.032787\n",
       "远战    570.078947\n",
       "Name: dmg, dtype: float64"
      ]
     },
     "execution_count": 11,
     "metadata": {},
     "output_type": "execute_result"
    }
   ],
   "source": [
    "# 使用 group_obj.agg({\"high_growth\":\"mean\",\"hp_max\":\"max\"}) 可使用不同的聚合函数。\n",
    "group_obj.mean()[\"dmg\"]"
   ]
  },
  {
   "cell_type": "code",
   "execution_count": 13,
   "id": "fe0417a5",
   "metadata": {},
   "outputs": [
    {
     "data": {
      "text/html": [
       "<div>\n",
       "<style scoped>\n",
       "    .dataframe tbody tr th:only-of-type {\n",
       "        vertical-align: middle;\n",
       "    }\n",
       "\n",
       "    .dataframe tbody tr th {\n",
       "        vertical-align: top;\n",
       "    }\n",
       "\n",
       "    .dataframe thead th {\n",
       "        text-align: right;\n",
       "    }\n",
       "</style>\n",
       "<table border=\"1\" class=\"dataframe\">\n",
       "  <thead>\n",
       "    <tr style=\"text-align: right;\">\n",
       "      <th></th>\n",
       "      <th>ID</th>\n",
       "      <th>dmg</th>\n",
       "    </tr>\n",
       "    <tr>\n",
       "      <th>class</th>\n",
       "      <th></th>\n",
       "      <th></th>\n",
       "    </tr>\n",
       "  </thead>\n",
       "  <tbody>\n",
       "    <tr>\n",
       "      <th>近战</th>\n",
       "      <td>10031.0</td>\n",
       "      <td>543.032787</td>\n",
       "    </tr>\n",
       "    <tr>\n",
       "      <th>远战</th>\n",
       "      <td>10080.5</td>\n",
       "      <td>570.078947</td>\n",
       "    </tr>\n",
       "  </tbody>\n",
       "</table>\n",
       "</div>"
      ],
      "text/plain": [
       "            ID         dmg\n",
       "class                     \n",
       "近战     10031.0  543.032787\n",
       "远战     10080.5  570.078947"
      ]
     },
     "execution_count": 13,
     "metadata": {},
     "output_type": "execute_result"
    }
   ],
   "source": [
    "avg"
   ]
  },
  {
   "cell_type": "code",
   "execution_count": 14,
   "id": "6044f33b",
   "metadata": {
    "scrolled": true
   },
   "outputs": [
    {
     "data": {
      "text/html": [
       "<div>\n",
       "<style scoped>\n",
       "    .dataframe tbody tr th:only-of-type {\n",
       "        vertical-align: middle;\n",
       "    }\n",
       "\n",
       "    .dataframe tbody tr th {\n",
       "        vertical-align: top;\n",
       "    }\n",
       "\n",
       "    .dataframe thead th {\n",
       "        text-align: right;\n",
       "    }\n",
       "</style>\n",
       "<table border=\"1\" class=\"dataframe\">\n",
       "  <thead>\n",
       "    <tr style=\"text-align: right;\">\n",
       "      <th></th>\n",
       "      <th>ID</th>\n",
       "      <th>class</th>\n",
       "      <th>dmg</th>\n",
       "      <th>sex</th>\n",
       "      <th>ID_avg</th>\n",
       "      <th>dmg_avg</th>\n",
       "    </tr>\n",
       "  </thead>\n",
       "  <tbody>\n",
       "    <tr>\n",
       "      <th>0</th>\n",
       "      <td>10001</td>\n",
       "      <td>近战</td>\n",
       "      <td>782</td>\n",
       "      <td>男</td>\n",
       "      <td>10031.0</td>\n",
       "      <td>543.032787</td>\n",
       "    </tr>\n",
       "    <tr>\n",
       "      <th>1</th>\n",
       "      <td>10002</td>\n",
       "      <td>近战</td>\n",
       "      <td>146</td>\n",
       "      <td>女</td>\n",
       "      <td>10031.0</td>\n",
       "      <td>543.032787</td>\n",
       "    </tr>\n",
       "    <tr>\n",
       "      <th>2</th>\n",
       "      <td>10003</td>\n",
       "      <td>近战</td>\n",
       "      <td>256</td>\n",
       "      <td>女</td>\n",
       "      <td>10031.0</td>\n",
       "      <td>543.032787</td>\n",
       "    </tr>\n",
       "    <tr>\n",
       "      <th>3</th>\n",
       "      <td>10004</td>\n",
       "      <td>近战</td>\n",
       "      <td>511</td>\n",
       "      <td>男</td>\n",
       "      <td>10031.0</td>\n",
       "      <td>543.032787</td>\n",
       "    </tr>\n",
       "    <tr>\n",
       "      <th>4</th>\n",
       "      <td>10005</td>\n",
       "      <td>近战</td>\n",
       "      <td>457</td>\n",
       "      <td>男</td>\n",
       "      <td>10031.0</td>\n",
       "      <td>543.032787</td>\n",
       "    </tr>\n",
       "    <tr>\n",
       "      <th>...</th>\n",
       "      <td>...</td>\n",
       "      <td>...</td>\n",
       "      <td>...</td>\n",
       "      <td>...</td>\n",
       "      <td>...</td>\n",
       "      <td>...</td>\n",
       "    </tr>\n",
       "    <tr>\n",
       "      <th>94</th>\n",
       "      <td>10095</td>\n",
       "      <td>远战</td>\n",
       "      <td>766</td>\n",
       "      <td>女</td>\n",
       "      <td>10080.5</td>\n",
       "      <td>570.078947</td>\n",
       "    </tr>\n",
       "    <tr>\n",
       "      <th>95</th>\n",
       "      <td>10096</td>\n",
       "      <td>远战</td>\n",
       "      <td>179</td>\n",
       "      <td>男</td>\n",
       "      <td>10080.5</td>\n",
       "      <td>570.078947</td>\n",
       "    </tr>\n",
       "    <tr>\n",
       "      <th>96</th>\n",
       "      <td>10097</td>\n",
       "      <td>远战</td>\n",
       "      <td>570</td>\n",
       "      <td>男</td>\n",
       "      <td>10080.5</td>\n",
       "      <td>570.078947</td>\n",
       "    </tr>\n",
       "    <tr>\n",
       "      <th>97</th>\n",
       "      <td>10098</td>\n",
       "      <td>远战</td>\n",
       "      <td>658</td>\n",
       "      <td>女</td>\n",
       "      <td>10080.5</td>\n",
       "      <td>570.078947</td>\n",
       "    </tr>\n",
       "    <tr>\n",
       "      <th>98</th>\n",
       "      <td>10099</td>\n",
       "      <td>远战</td>\n",
       "      <td>801</td>\n",
       "      <td>女</td>\n",
       "      <td>10080.5</td>\n",
       "      <td>570.078947</td>\n",
       "    </tr>\n",
       "  </tbody>\n",
       "</table>\n",
       "<p>99 rows × 6 columns</p>\n",
       "</div>"
      ],
      "text/plain": [
       "       ID class  dmg sex   ID_avg     dmg_avg\n",
       "0   10001    近战  782   男  10031.0  543.032787\n",
       "1   10002    近战  146   女  10031.0  543.032787\n",
       "2   10003    近战  256   女  10031.0  543.032787\n",
       "3   10004    近战  511   男  10031.0  543.032787\n",
       "4   10005    近战  457   男  10031.0  543.032787\n",
       "..    ...   ...  ...  ..      ...         ...\n",
       "94  10095    远战  766   女  10080.5  570.078947\n",
       "95  10096    远战  179   男  10080.5  570.078947\n",
       "96  10097    远战  570   男  10080.5  570.078947\n",
       "97  10098    远战  658   女  10080.5  570.078947\n",
       "98  10099    远战  801   女  10080.5  570.078947\n",
       "\n",
       "[99 rows x 6 columns]"
      ]
     },
     "execution_count": 14,
     "metadata": {},
     "output_type": "execute_result"
    }
   ],
   "source": [
    "pd.merge(df,avg,left_on=\"class\",right_index=True,suffixes=[\"\",\"_avg\"])"
   ]
  },
  {
   "cell_type": "code",
   "execution_count": 16,
   "id": "243762d4",
   "metadata": {},
   "outputs": [
    {
     "data": {
      "text/plain": [
       "class\n",
       "近战    543.032787\n",
       "远战    570.078947\n",
       "Name: dmg, dtype: float64"
      ]
     },
     "execution_count": 16,
     "metadata": {},
     "output_type": "execute_result"
    }
   ],
   "source": [
    "df.groupby(\"class\")[\"dmg\"].mean()"
   ]
  },
  {
   "cell_type": "code",
   "execution_count": null,
   "id": "ad434490",
   "metadata": {},
   "outputs": [],
   "source": []
  }
 ],
 "metadata": {
  "kernelspec": {
   "display_name": "Python 3 (ipykernel)",
   "language": "python",
   "name": "python3"
  },
  "language_info": {
   "codemirror_mode": {
    "name": "ipython",
    "version": 3
   },
   "file_extension": ".py",
   "mimetype": "text/x-python",
   "name": "python",
   "nbconvert_exporter": "python",
   "pygments_lexer": "ipython3",
   "version": "3.10.9"
  }
 },
 "nbformat": 4,
 "nbformat_minor": 5
}
