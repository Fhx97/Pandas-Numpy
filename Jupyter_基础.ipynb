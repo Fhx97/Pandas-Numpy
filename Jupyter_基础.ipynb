{
 "cells": [
  {
   "cell_type": "markdown",
   "id": "be807da8",
   "metadata": {},
   "source": [
    "Python基本库\n",
    "Numpy + Pandas --> 数据分析 + 人工智能基础\n",
    "sklearn      --> 数据挖掘 + 人工智能的基础\n",
    "Tensorflow    --> 深度学习框架"
   ]
  },
  {
   "cell_type": "markdown",
   "id": "da26febf",
   "metadata": {},
   "source": [
    "[注意]终端不要关闭，关闭相当于杀死ipython后台进程，导致编译器不可用。\n",
    "cell 单元格\n",
    "单元格有两个[状态]：\n",
    "选中状态：没有光标闪动，此时可以对整个单元格操作，比如删除单元格、新增一个单元格、复制、粘贴、撤销、切换模式。\n",
    "编辑状态：能看到光标在闪动，此时可以在单元格内部写代码或文本。\n",
    "\n",
    "编辑状态-->选择状态 按下ESC\n",
    "选择状态-->编辑状态 按下Enter\n",
    "\n",
    "单元格常用两个[模式]：\n",
    "Code模式编码模式：这个模式可以运行代码\n",
    "Markdown文本模式：这个模式可以运行Markdown语法\n",
    "\n",
    "两个模式切换：\n",
    "Code --> Markdown 在单元格选中状态下 按下M\n",
    "Markdown --> Code 在单元格选中状态下 按下Y\n",
    "\n",
    "运行单元格：Ctrl + Enter（运行当前选择单元格，并选中当前单元格）\n",
    "\n"
   ]
  },
  {
   "cell_type": "markdown",
   "id": "db862d52",
   "metadata": {},
   "source": [
    "单元格操作：\n",
    "前提：保证单元格处于选中转态\n",
    "\n",
    "新增： 按B在选中单元格下方新增 按A在选中单元格上方新增\n",
    "\n",
    "删除：双击D 删除选中单元格\n",
    "\n",
    "剪切：按X 选中单元格\n",
    "\n",
    "复制：按C 选中单元格\n",
    "\n",
    "粘贴：按V 粘贴粘贴板里的单元格\n",
    "\n",
    "撤销：按Z 撤销上一次的单元格操作"
   ]
  }
 ],
 "metadata": {
  "kernelspec": {
   "display_name": "Python 3 (ipykernel)",
   "language": "python",
   "name": "python3"
  },
  "language_info": {
   "codemirror_mode": {
    "name": "ipython",
    "version": 3
   },
   "file_extension": ".py",
   "mimetype": "text/x-python",
   "name": "python",
   "nbconvert_exporter": "python",
   "pygments_lexer": "ipython3",
   "version": "3.10.9"
  }
 },
 "nbformat": 4,
 "nbformat_minor": 5
}
